{
  "nbformat": 4,
  "nbformat_minor": 0,
  "metadata": {
    "colab": {
      "provenance": []
    },
    "kernelspec": {
      "name": "python3",
      "display_name": "Python 3"
    },
    "language_info": {
      "name": "python"
    }
  },
  "cells": [
    {
      "cell_type": "code",
      "execution_count": 1,
      "metadata": {
        "id": "ScUxLHDKMS2p"
      },
      "outputs": [],
      "source": [
        "# Importing all the necessary libraries\n",
        "import pandas as pd\n",
        "import matplotlib.pyplot as plt\n",
        "import seaborn as sns\n",
        "import plotly.express as px\n",
        "import numpy as np\n",
        "import calendar\n",
        "import re"
      ]
    },
    {
      "cell_type": "code",
      "source": [
        "# Read the CSV file into a DataFrame\n",
        "df = pd.read_csv('2024_MPesa_Statements.csv')\n",
        "\n",
        "# Get column names as a list\n",
        "column_names = df.columns.tolist()\n",
        "\n",
        "# Print the list of column names to see if everything is okay with the columns\n",
        "print(column_names)"
      ],
      "metadata": {
        "colab": {
          "base_uri": "https://localhost:8080/"
        },
        "id": "SnUwYKfWB3S5",
        "outputId": "95af1d01-d398-4de5-e941-ed8b5b2db2cc"
      },
      "execution_count": 2,
      "outputs": [
        {
          "output_type": "stream",
          "name": "stdout",
          "text": [
            "['Receipt_No', 'Completion_Time', 'Unnamed: 2', 'Details', 'Transaction_Status', 'Received', 'Withdrawn', 'Unnamed: 7', 'Balance', 'Unnamed: 9']\n"
          ]
        }
      ]
    },
    {
      "cell_type": "code",
      "source": [
        "# As we can see, we have unnecessary columns that we need to drp\n",
        "# Dropping 'Unnamed: 2', 'Unnamed: 7', and 'Unnamed: 9'\n",
        "df = df.loc[:, ~df.columns.str.contains('Unnamed')]"
      ],
      "metadata": {
        "id": "lc_lZ-X_bmDj"
      },
      "execution_count": 3,
      "outputs": []
    },
    {
      "cell_type": "code",
      "source": [
        "# Now lets check the data types of the data in\n",
        "print(df.dtypes)"
      ],
      "metadata": {
        "colab": {
          "base_uri": "https://localhost:8080/"
        },
        "id": "NeiLZ1XdbjC0",
        "outputId": "97ad9065-0bc9-4aa8-8502-0182f895bc83"
      },
      "execution_count": 4,
      "outputs": [
        {
          "output_type": "stream",
          "name": "stdout",
          "text": [
            "Receipt_No            object\n",
            "Completion_Time       object\n",
            "Details               object\n",
            "Transaction_Status    object\n",
            "Received              object\n",
            "Withdrawn             object\n",
            "Balance               object\n",
            "dtype: object\n"
          ]
        }
      ]
    },
    {
      "cell_type": "code",
      "source": [
        "# We will need to convert these data types into the respective data items they represent"
      ],
      "metadata": {
        "id": "z_uW7Iot4DOJ"
      },
      "execution_count": 5,
      "outputs": []
    },
    {
      "cell_type": "code",
      "source": [
        "# Converting the Received, Withdrawn and Balance Columns to float data type\n",
        "df['Received'] = df['Received'].astype(str).str.replace(',', '').astype(float)\n",
        "df['Withdrawn'] = df['Withdrawn'].astype(str).str.replace(',', '').astype(float).abs() # The 'Withdrawn' column has negative values so  I have used the absolute function to make them positive\n",
        "df['Balance'] = df['Balance'].astype(str).str.replace(',', '').astype(float)"
      ],
      "metadata": {
        "id": "huCMcZ3vcWRG"
      },
      "execution_count": 6,
      "outputs": []
    },
    {
      "cell_type": "code",
      "source": [
        "# Converting the 'Completion_Time' to datetime format and split into 'Date' and 'Time' so that I can work with it better\n",
        "df['Completion_Time'] = pd.to_datetime(df['Completion_Time'], errors='coerce')\n",
        "df['Date'] = df['Completion_Time'].dt.date\n",
        "df['Time'] = df['Completion_Time'].dt.time\n",
        "\n",
        "# Removing the old 'Completion_Time' column since we now have new 'Date' and 'Time' columns\n",
        "df.drop(columns=['Completion_Time'], inplace=True)"
      ],
      "metadata": {
        "id": "jrj_u3IGc_x0"
      },
      "execution_count": 7,
      "outputs": []
    },
    {
      "cell_type": "code",
      "source": [
        "# Now let's check the data types again to see if they have been updated\n",
        "print(df.dtypes)"
      ],
      "metadata": {
        "colab": {
          "base_uri": "https://localhost:8080/"
        },
        "id": "RHnm53vF4Jw1",
        "outputId": "d22ea245-0b9d-4043-c076-5f7b78de9ec2"
      },
      "execution_count": 8,
      "outputs": [
        {
          "output_type": "stream",
          "name": "stdout",
          "text": [
            "Receipt_No             object\n",
            "Details                object\n",
            "Transaction_Status     object\n",
            "Received              float64\n",
            "Withdrawn             float64\n",
            "Balance               float64\n",
            "Date                   object\n",
            "Time                   object\n",
            "dtype: object\n"
          ]
        }
      ]
    },
    {
      "cell_type": "code",
      "source": [
        "# Hopefully we are done with data cleaning. If not we will just deal with them as they come 😂😂😂"
      ],
      "metadata": {
        "id": "6c_mMOsQ2g7H"
      },
      "execution_count": null,
      "outputs": []
    },
    {
      "cell_type": "code",
      "source": [
        "# 1. The total amount of money I received in 2024 via M-Pesa\n",
        "\n",
        "# Calculating the total sum in the 'Received Column'\n",
        "total_received = df['Received'].sum()\n",
        "\n",
        "# Printing the result\n",
        "print(f\"I received a total of KES {total_received:,.2f} in 2024 on my M-Pesa account.\")"
      ],
      "metadata": {
        "colab": {
          "base_uri": "https://localhost:8080/"
        },
        "id": "CE9cDaiCEk0c",
        "outputId": "92c70c6b-442f-4128-e4f7-febbd280009c"
      },
      "execution_count": 11,
      "outputs": [
        {
          "output_type": "stream",
          "name": "stdout",
          "text": [
            "I received a total of KES 965,967.00 in 2024 on my M-Pesa account.\n"
          ]
        }
      ]
    },
    {
      "cell_type": "code",
      "source": [
        "# 2. The total amount of money I sent via M-Pesa in 2024\n",
        "\n",
        "# Calculating the total sum in the 'Withdrawn Column'\n",
        "total_spent = df['Withdrawn'].sum()\n",
        "\n",
        "# Printing the result\n",
        "print(f\"I spent a total of KES {total_spent:,.2f} in 2024 using my M-Pesa account.\")"
      ],
      "metadata": {
        "colab": {
          "base_uri": "https://localhost:8080/"
        },
        "id": "aNsr8_ClNlgr",
        "outputId": "4eba11ac-eb7f-4a90-dfa7-af0932363dd5"
      },
      "execution_count": 12,
      "outputs": [
        {
          "output_type": "stream",
          "name": "stdout",
          "text": [
            "I spent a total of KES 981,420.00 in 2024 using my M-Pesa account.\n"
          ]
        }
      ]
    },
    {
      "cell_type": "code",
      "source": [
        "# 3. My net earnings in year 2024\n",
        "\n",
        "# The net earnings is the difference between the total money I received and the total money I sent using M-Pesa\n",
        "my_earnings = total_received - total_spent\n",
        "\n",
        "# Printing the result\n",
        "print(f\"I earned KES {my_earnings:,.2f} in 2024 on my M-Pesa account.\")"
      ],
      "metadata": {
        "colab": {
          "base_uri": "https://localhost:8080/"
        },
        "id": "229NI5KQ6IVB",
        "outputId": "5f694e0a-619f-4c6b-bc68-e52c2e2a0a12"
      },
      "execution_count": 13,
      "outputs": [
        {
          "output_type": "stream",
          "name": "stdout",
          "text": [
            "I earned KES -15,453.00 in 2024 on my M-Pesa account.\n"
          ]
        }
      ]
    },
    {
      "cell_type": "code",
      "source": [
        "# So basically I finished the year with a deficit of KSHS 15,453.00\n",
        "# Very interesting 😂😂😂\n",
        "# But in my defense, I had some cash in my M-Shwari account 😒😂😒\n",
        "\n",
        "\n",
        "# Now let's see the breakdown of the money I spent in this year using Send Money, Pochi la Biashara, Till Numbers and Paybill Numbers"
      ],
      "metadata": {
        "id": "2CSvMSjD7LTP"
      },
      "execution_count": 14,
      "outputs": []
    },
    {
      "cell_type": "code",
      "source": [
        "# 4. The amount of money I spent in 2024 using Send Money, Pochi la Biashara, Till Numbers and Paybill Numbers services\n",
        "\n",
        "# Defining transaction categories based on 'Details' column, identify and sum up amounts spent in each category (Send Money, Pochi la Biashara, Till Numbers and Paybill Numbers services)\n",
        "send_money_total = df[df['Details'].str.startswith('Customer Transfer', na=False)]['Withdrawn'].sum()\n",
        "pochi_total = df[df['Details'].str.startswith('Customer Payment to Small Business', na=False)]['Withdrawn'].sum()\n",
        "till_total = df[df['Details'].str.startswith('Merchant Payment', na=False)]['Withdrawn'].sum()\n",
        "paybill_total = df[df['Details'].str.startswith('Pay Bill', na=False)]['Withdrawn'].sum()\n",
        "mshwari_deposit_total = df[df['Details'].str.startswith('M-Shwari Deposit', na=False)]['Withdrawn'].sum()\n",
        "airtime_total = df[df['Details'].str.startswith('Airtime Purchase', na=False)]['Withdrawn'].sum()\n",
        "\n",
        "# Storing the total amounts spent per category in the 'categories' dictionary\n",
        "categories = {\n",
        "    \"Send Money\": send_money_total,  # Money sent to individuals (Send Money)\n",
        "    \"Pochi la Biashara\": pochi_total,  # Payments to small businesses (Pochi la Biashara)\n",
        "    \"Till Numbers\": till_total,  # Payments made to business Till numbers\n",
        "    \"Paybill Numbers\": paybill_total,  # Payments made via Paybill numbers\n",
        "    \"M-Shwari Deposit\": mshwari_deposit_total,  # Deposits made to M-Shwari\n",
        "    \"Airtime Purchase\": airtime_total  # Amount spent on Buying Airtime\n",
        "}\n",
        "\n",
        "# Converting the dictionary into a DataFrame for better tabular representation\n",
        "df_summary = pd.DataFrame(list(categories.items()), columns=[\"Transaction Type\", \"Amount (KSHS)\"])\n",
        "\n",
        "# Formating the \"Amount (KES)\" column with comma separators for readability\n",
        "df_summary[\"Amount (KSHS)\"] = df_summary[\"Amount (KSHS)\"].apply(lambda x: f\"{x:,.2f}\")\n",
        "\n",
        "# Printing the table showing each category and the total amount I spent in each category\n",
        "print(df_summary.to_string(index=False))"
      ],
      "metadata": {
        "colab": {
          "base_uri": "https://localhost:8080/"
        },
        "id": "y1CCYm-7AjV8",
        "outputId": "e7465673-7137-480f-d88c-7460403af65c"
      },
      "execution_count": 15,
      "outputs": [
        {
          "output_type": "stream",
          "name": "stdout",
          "text": [
            " Transaction Type Amount (KSHS)\n",
            "       Send Money    202,065.00\n",
            "Pochi la Biashara     34,997.00\n",
            "     Till Numbers    116,959.00\n",
            "  Paybill Numbers    147,628.00\n",
            " M-Shwari Deposit    405,296.00\n",
            " Airtime Purchase      6,640.00\n"
          ]
        }
      ]
    },
    {
      "cell_type": "code",
      "source": [
        "# As we can see, I spent the most amount of money on M-Shwari Deposits (405,296.00) and the least amount of money on Airtime Purchases (6,640) in 2024\n",
        "# You remember I had mentioned I had some cash on my M-Shwari😂😂👌😂😂\n",
        "\n",
        "# Let's visualize these results for better viewing and interpretation\n",
        "# Note that the graph is interactive and you can hover over the elements of the graph to get more insights"
      ],
      "metadata": {
        "id": "Dx9EXyS8H9_z"
      },
      "execution_count": 16,
      "outputs": []
    },
    {
      "source": [
        "# 4.1 Bar chart of the amount of money I spent on Send Money, Pochi la Biashara, Till Numbers and Paybill Numbers services in 2024\n",
        "\n",
        "# Converting the 'categories' dictionary to a DataFrame\n",
        "df_bar = pd.DataFrame(list(categories.items()), columns=[\"Transaction Type\", \"Amount (KES)\"])\n",
        "\n",
        "# Calculating percentages\n",
        "total_spent = df_bar['Amount (KES)'].sum()\n",
        "df_bar['Percentage'] = (df_bar['Amount (KES)'] / total_spent) * 100\n",
        "\n",
        "# Formatting percentages as strings with one decimal place\n",
        "df_bar['Percentage_Text'] = df_bar['Percentage'].apply(lambda x: f\"{x:.1f}%\")\n",
        "\n",
        "# Creating the bar chart using Plotly Express\n",
        "fig = px.bar(\n",
        "    df_bar,\n",
        "    x=\"Transaction Type\",\n",
        "    y=\"Amount (KES)\",\n",
        "    title=\"Bar Graph of the amount of money I spent on Send Money, Pochi la Biashara, Till Numbers and Paybill Numbers services in 2024\",\n",
        "    color=\"Transaction Type\",\n",
        "    color_discrete_sequence=px.colors.qualitative.Pastel,\n",
        "    text='Percentage_Text'\n",
        ")\n",
        "\n",
        "# Customizing the layout for better readability\n",
        "fig.update_layout(\n",
        "    title_font_size = 14,\n",
        "    title_font_color = \"blue\",\n",
        "    title_x=0.5,\n",
        "    xaxis_title=\"Transaction Type\",\n",
        "    yaxis_title=\"Amount (KES)\",\n",
        "    yaxis_tickformat = ',.0f'\n",
        ")\n",
        "\n",
        "# Showing the bar chart\n",
        "fig.show()"
      ],
      "cell_type": "code",
      "metadata": {
        "colab": {
          "base_uri": "https://localhost:8080/",
          "height": 542
        },
        "id": "llbUcNFTpz4B",
        "outputId": "022fe16d-995c-48ad-e33d-188d6af02825"
      },
      "execution_count": 17,
      "outputs": [
        {
          "output_type": "display_data",
          "data": {
            "text/html": [
              "<html>\n",
              "<head><meta charset=\"utf-8\" /></head>\n",
              "<body>\n",
              "    <div>            <script src=\"https://cdnjs.cloudflare.com/ajax/libs/mathjax/2.7.5/MathJax.js?config=TeX-AMS-MML_SVG\"></script><script type=\"text/javascript\">if (window.MathJax && window.MathJax.Hub && window.MathJax.Hub.Config) {window.MathJax.Hub.Config({SVG: {font: \"STIX-Web\"}});}</script>                <script type=\"text/javascript\">window.PlotlyConfig = {MathJaxConfig: 'local'};</script>\n",
              "        <script charset=\"utf-8\" src=\"https://cdn.plot.ly/plotly-2.35.2.min.js\"></script>                <div id=\"fa27c25f-4a32-4a7c-8560-3e6846dbf6c3\" class=\"plotly-graph-div\" style=\"height:525px; width:100%;\"></div>            <script type=\"text/javascript\">                                    window.PLOTLYENV=window.PLOTLYENV || {};                                    if (document.getElementById(\"fa27c25f-4a32-4a7c-8560-3e6846dbf6c3\")) {                    Plotly.newPlot(                        \"fa27c25f-4a32-4a7c-8560-3e6846dbf6c3\",                        [{\"alignmentgroup\":\"True\",\"hovertemplate\":\"Transaction Type=%{x}\\u003cbr\\u003eAmount (KES)=%{y}\\u003cbr\\u003ePercentage_Text=%{text}\\u003cextra\\u003e\\u003c\\u002fextra\\u003e\",\"legendgroup\":\"Send Money\",\"marker\":{\"color\":\"rgb(102, 197, 204)\",\"pattern\":{\"shape\":\"\"}},\"name\":\"Send Money\",\"offsetgroup\":\"Send Money\",\"orientation\":\"v\",\"showlegend\":true,\"text\":[\"22.1%\"],\"textposition\":\"auto\",\"x\":[\"Send Money\"],\"xaxis\":\"x\",\"y\":[202065.0],\"yaxis\":\"y\",\"type\":\"bar\"},{\"alignmentgroup\":\"True\",\"hovertemplate\":\"Transaction Type=%{x}\\u003cbr\\u003eAmount (KES)=%{y}\\u003cbr\\u003ePercentage_Text=%{text}\\u003cextra\\u003e\\u003c\\u002fextra\\u003e\",\"legendgroup\":\"Pochi la Biashara\",\"marker\":{\"color\":\"rgb(246, 207, 113)\",\"pattern\":{\"shape\":\"\"}},\"name\":\"Pochi la Biashara\",\"offsetgroup\":\"Pochi la Biashara\",\"orientation\":\"v\",\"showlegend\":true,\"text\":[\"3.8%\"],\"textposition\":\"auto\",\"x\":[\"Pochi la Biashara\"],\"xaxis\":\"x\",\"y\":[34997.0],\"yaxis\":\"y\",\"type\":\"bar\"},{\"alignmentgroup\":\"True\",\"hovertemplate\":\"Transaction Type=%{x}\\u003cbr\\u003eAmount (KES)=%{y}\\u003cbr\\u003ePercentage_Text=%{text}\\u003cextra\\u003e\\u003c\\u002fextra\\u003e\",\"legendgroup\":\"Till Numbers\",\"marker\":{\"color\":\"rgb(248, 156, 116)\",\"pattern\":{\"shape\":\"\"}},\"name\":\"Till Numbers\",\"offsetgroup\":\"Till Numbers\",\"orientation\":\"v\",\"showlegend\":true,\"text\":[\"12.8%\"],\"textposition\":\"auto\",\"x\":[\"Till Numbers\"],\"xaxis\":\"x\",\"y\":[116959.0],\"yaxis\":\"y\",\"type\":\"bar\"},{\"alignmentgroup\":\"True\",\"hovertemplate\":\"Transaction Type=%{x}\\u003cbr\\u003eAmount (KES)=%{y}\\u003cbr\\u003ePercentage_Text=%{text}\\u003cextra\\u003e\\u003c\\u002fextra\\u003e\",\"legendgroup\":\"Paybill Numbers\",\"marker\":{\"color\":\"rgb(220, 176, 242)\",\"pattern\":{\"shape\":\"\"}},\"name\":\"Paybill Numbers\",\"offsetgroup\":\"Paybill Numbers\",\"orientation\":\"v\",\"showlegend\":true,\"text\":[\"16.2%\"],\"textposition\":\"auto\",\"x\":[\"Paybill Numbers\"],\"xaxis\":\"x\",\"y\":[147628.0],\"yaxis\":\"y\",\"type\":\"bar\"},{\"alignmentgroup\":\"True\",\"hovertemplate\":\"Transaction Type=%{x}\\u003cbr\\u003eAmount (KES)=%{y}\\u003cbr\\u003ePercentage_Text=%{text}\\u003cextra\\u003e\\u003c\\u002fextra\\u003e\",\"legendgroup\":\"M-Shwari Deposit\",\"marker\":{\"color\":\"rgb(135, 197, 95)\",\"pattern\":{\"shape\":\"\"}},\"name\":\"M-Shwari Deposit\",\"offsetgroup\":\"M-Shwari Deposit\",\"orientation\":\"v\",\"showlegend\":true,\"text\":[\"44.4%\"],\"textposition\":\"auto\",\"x\":[\"M-Shwari Deposit\"],\"xaxis\":\"x\",\"y\":[405296.0],\"yaxis\":\"y\",\"type\":\"bar\"},{\"alignmentgroup\":\"True\",\"hovertemplate\":\"Transaction Type=%{x}\\u003cbr\\u003eAmount (KES)=%{y}\\u003cbr\\u003ePercentage_Text=%{text}\\u003cextra\\u003e\\u003c\\u002fextra\\u003e\",\"legendgroup\":\"Airtime Purchase\",\"marker\":{\"color\":\"rgb(158, 185, 243)\",\"pattern\":{\"shape\":\"\"}},\"name\":\"Airtime Purchase\",\"offsetgroup\":\"Airtime Purchase\",\"orientation\":\"v\",\"showlegend\":true,\"text\":[\"0.7%\"],\"textposition\":\"auto\",\"x\":[\"Airtime Purchase\"],\"xaxis\":\"x\",\"y\":[6640.0],\"yaxis\":\"y\",\"type\":\"bar\"}],                        {\"template\":{\"data\":{\"histogram2dcontour\":[{\"type\":\"histogram2dcontour\",\"colorbar\":{\"outlinewidth\":0,\"ticks\":\"\"},\"colorscale\":[[0.0,\"#0d0887\"],[0.1111111111111111,\"#46039f\"],[0.2222222222222222,\"#7201a8\"],[0.3333333333333333,\"#9c179e\"],[0.4444444444444444,\"#bd3786\"],[0.5555555555555556,\"#d8576b\"],[0.6666666666666666,\"#ed7953\"],[0.7777777777777778,\"#fb9f3a\"],[0.8888888888888888,\"#fdca26\"],[1.0,\"#f0f921\"]]}],\"choropleth\":[{\"type\":\"choropleth\",\"colorbar\":{\"outlinewidth\":0,\"ticks\":\"\"}}],\"histogram2d\":[{\"type\":\"histogram2d\",\"colorbar\":{\"outlinewidth\":0,\"ticks\":\"\"},\"colorscale\":[[0.0,\"#0d0887\"],[0.1111111111111111,\"#46039f\"],[0.2222222222222222,\"#7201a8\"],[0.3333333333333333,\"#9c179e\"],[0.4444444444444444,\"#bd3786\"],[0.5555555555555556,\"#d8576b\"],[0.6666666666666666,\"#ed7953\"],[0.7777777777777778,\"#fb9f3a\"],[0.8888888888888888,\"#fdca26\"],[1.0,\"#f0f921\"]]}],\"heatmap\":[{\"type\":\"heatmap\",\"colorbar\":{\"outlinewidth\":0,\"ticks\":\"\"},\"colorscale\":[[0.0,\"#0d0887\"],[0.1111111111111111,\"#46039f\"],[0.2222222222222222,\"#7201a8\"],[0.3333333333333333,\"#9c179e\"],[0.4444444444444444,\"#bd3786\"],[0.5555555555555556,\"#d8576b\"],[0.6666666666666666,\"#ed7953\"],[0.7777777777777778,\"#fb9f3a\"],[0.8888888888888888,\"#fdca26\"],[1.0,\"#f0f921\"]]}],\"heatmapgl\":[{\"type\":\"heatmapgl\",\"colorbar\":{\"outlinewidth\":0,\"ticks\":\"\"},\"colorscale\":[[0.0,\"#0d0887\"],[0.1111111111111111,\"#46039f\"],[0.2222222222222222,\"#7201a8\"],[0.3333333333333333,\"#9c179e\"],[0.4444444444444444,\"#bd3786\"],[0.5555555555555556,\"#d8576b\"],[0.6666666666666666,\"#ed7953\"],[0.7777777777777778,\"#fb9f3a\"],[0.8888888888888888,\"#fdca26\"],[1.0,\"#f0f921\"]]}],\"contourcarpet\":[{\"type\":\"contourcarpet\",\"colorbar\":{\"outlinewidth\":0,\"ticks\":\"\"}}],\"contour\":[{\"type\":\"contour\",\"colorbar\":{\"outlinewidth\":0,\"ticks\":\"\"},\"colorscale\":[[0.0,\"#0d0887\"],[0.1111111111111111,\"#46039f\"],[0.2222222222222222,\"#7201a8\"],[0.3333333333333333,\"#9c179e\"],[0.4444444444444444,\"#bd3786\"],[0.5555555555555556,\"#d8576b\"],[0.6666666666666666,\"#ed7953\"],[0.7777777777777778,\"#fb9f3a\"],[0.8888888888888888,\"#fdca26\"],[1.0,\"#f0f921\"]]}],\"surface\":[{\"type\":\"surface\",\"colorbar\":{\"outlinewidth\":0,\"ticks\":\"\"},\"colorscale\":[[0.0,\"#0d0887\"],[0.1111111111111111,\"#46039f\"],[0.2222222222222222,\"#7201a8\"],[0.3333333333333333,\"#9c179e\"],[0.4444444444444444,\"#bd3786\"],[0.5555555555555556,\"#d8576b\"],[0.6666666666666666,\"#ed7953\"],[0.7777777777777778,\"#fb9f3a\"],[0.8888888888888888,\"#fdca26\"],[1.0,\"#f0f921\"]]}],\"mesh3d\":[{\"type\":\"mesh3d\",\"colorbar\":{\"outlinewidth\":0,\"ticks\":\"\"}}],\"scatter\":[{\"fillpattern\":{\"fillmode\":\"overlay\",\"size\":10,\"solidity\":0.2},\"type\":\"scatter\"}],\"parcoords\":[{\"type\":\"parcoords\",\"line\":{\"colorbar\":{\"outlinewidth\":0,\"ticks\":\"\"}}}],\"scatterpolargl\":[{\"type\":\"scatterpolargl\",\"marker\":{\"colorbar\":{\"outlinewidth\":0,\"ticks\":\"\"}}}],\"bar\":[{\"error_x\":{\"color\":\"#2a3f5f\"},\"error_y\":{\"color\":\"#2a3f5f\"},\"marker\":{\"line\":{\"color\":\"#E5ECF6\",\"width\":0.5},\"pattern\":{\"fillmode\":\"overlay\",\"size\":10,\"solidity\":0.2}},\"type\":\"bar\"}],\"scattergeo\":[{\"type\":\"scattergeo\",\"marker\":{\"colorbar\":{\"outlinewidth\":0,\"ticks\":\"\"}}}],\"scatterpolar\":[{\"type\":\"scatterpolar\",\"marker\":{\"colorbar\":{\"outlinewidth\":0,\"ticks\":\"\"}}}],\"histogram\":[{\"marker\":{\"pattern\":{\"fillmode\":\"overlay\",\"size\":10,\"solidity\":0.2}},\"type\":\"histogram\"}],\"scattergl\":[{\"type\":\"scattergl\",\"marker\":{\"colorbar\":{\"outlinewidth\":0,\"ticks\":\"\"}}}],\"scatter3d\":[{\"type\":\"scatter3d\",\"line\":{\"colorbar\":{\"outlinewidth\":0,\"ticks\":\"\"}},\"marker\":{\"colorbar\":{\"outlinewidth\":0,\"ticks\":\"\"}}}],\"scattermapbox\":[{\"type\":\"scattermapbox\",\"marker\":{\"colorbar\":{\"outlinewidth\":0,\"ticks\":\"\"}}}],\"scatterternary\":[{\"type\":\"scatterternary\",\"marker\":{\"colorbar\":{\"outlinewidth\":0,\"ticks\":\"\"}}}],\"scattercarpet\":[{\"type\":\"scattercarpet\",\"marker\":{\"colorbar\":{\"outlinewidth\":0,\"ticks\":\"\"}}}],\"carpet\":[{\"aaxis\":{\"endlinecolor\":\"#2a3f5f\",\"gridcolor\":\"white\",\"linecolor\":\"white\",\"minorgridcolor\":\"white\",\"startlinecolor\":\"#2a3f5f\"},\"baxis\":{\"endlinecolor\":\"#2a3f5f\",\"gridcolor\":\"white\",\"linecolor\":\"white\",\"minorgridcolor\":\"white\",\"startlinecolor\":\"#2a3f5f\"},\"type\":\"carpet\"}],\"table\":[{\"cells\":{\"fill\":{\"color\":\"#EBF0F8\"},\"line\":{\"color\":\"white\"}},\"header\":{\"fill\":{\"color\":\"#C8D4E3\"},\"line\":{\"color\":\"white\"}},\"type\":\"table\"}],\"barpolar\":[{\"marker\":{\"line\":{\"color\":\"#E5ECF6\",\"width\":0.5},\"pattern\":{\"fillmode\":\"overlay\",\"size\":10,\"solidity\":0.2}},\"type\":\"barpolar\"}],\"pie\":[{\"automargin\":true,\"type\":\"pie\"}]},\"layout\":{\"autotypenumbers\":\"strict\",\"colorway\":[\"#636efa\",\"#EF553B\",\"#00cc96\",\"#ab63fa\",\"#FFA15A\",\"#19d3f3\",\"#FF6692\",\"#B6E880\",\"#FF97FF\",\"#FECB52\"],\"font\":{\"color\":\"#2a3f5f\"},\"hovermode\":\"closest\",\"hoverlabel\":{\"align\":\"left\"},\"paper_bgcolor\":\"white\",\"plot_bgcolor\":\"#E5ECF6\",\"polar\":{\"bgcolor\":\"#E5ECF6\",\"angularaxis\":{\"gridcolor\":\"white\",\"linecolor\":\"white\",\"ticks\":\"\"},\"radialaxis\":{\"gridcolor\":\"white\",\"linecolor\":\"white\",\"ticks\":\"\"}},\"ternary\":{\"bgcolor\":\"#E5ECF6\",\"aaxis\":{\"gridcolor\":\"white\",\"linecolor\":\"white\",\"ticks\":\"\"},\"baxis\":{\"gridcolor\":\"white\",\"linecolor\":\"white\",\"ticks\":\"\"},\"caxis\":{\"gridcolor\":\"white\",\"linecolor\":\"white\",\"ticks\":\"\"}},\"coloraxis\":{\"colorbar\":{\"outlinewidth\":0,\"ticks\":\"\"}},\"colorscale\":{\"sequential\":[[0.0,\"#0d0887\"],[0.1111111111111111,\"#46039f\"],[0.2222222222222222,\"#7201a8\"],[0.3333333333333333,\"#9c179e\"],[0.4444444444444444,\"#bd3786\"],[0.5555555555555556,\"#d8576b\"],[0.6666666666666666,\"#ed7953\"],[0.7777777777777778,\"#fb9f3a\"],[0.8888888888888888,\"#fdca26\"],[1.0,\"#f0f921\"]],\"sequentialminus\":[[0.0,\"#0d0887\"],[0.1111111111111111,\"#46039f\"],[0.2222222222222222,\"#7201a8\"],[0.3333333333333333,\"#9c179e\"],[0.4444444444444444,\"#bd3786\"],[0.5555555555555556,\"#d8576b\"],[0.6666666666666666,\"#ed7953\"],[0.7777777777777778,\"#fb9f3a\"],[0.8888888888888888,\"#fdca26\"],[1.0,\"#f0f921\"]],\"diverging\":[[0,\"#8e0152\"],[0.1,\"#c51b7d\"],[0.2,\"#de77ae\"],[0.3,\"#f1b6da\"],[0.4,\"#fde0ef\"],[0.5,\"#f7f7f7\"],[0.6,\"#e6f5d0\"],[0.7,\"#b8e186\"],[0.8,\"#7fbc41\"],[0.9,\"#4d9221\"],[1,\"#276419\"]]},\"xaxis\":{\"gridcolor\":\"white\",\"linecolor\":\"white\",\"ticks\":\"\",\"title\":{\"standoff\":15},\"zerolinecolor\":\"white\",\"automargin\":true,\"zerolinewidth\":2},\"yaxis\":{\"gridcolor\":\"white\",\"linecolor\":\"white\",\"ticks\":\"\",\"title\":{\"standoff\":15},\"zerolinecolor\":\"white\",\"automargin\":true,\"zerolinewidth\":2},\"scene\":{\"xaxis\":{\"backgroundcolor\":\"#E5ECF6\",\"gridcolor\":\"white\",\"linecolor\":\"white\",\"showbackground\":true,\"ticks\":\"\",\"zerolinecolor\":\"white\",\"gridwidth\":2},\"yaxis\":{\"backgroundcolor\":\"#E5ECF6\",\"gridcolor\":\"white\",\"linecolor\":\"white\",\"showbackground\":true,\"ticks\":\"\",\"zerolinecolor\":\"white\",\"gridwidth\":2},\"zaxis\":{\"backgroundcolor\":\"#E5ECF6\",\"gridcolor\":\"white\",\"linecolor\":\"white\",\"showbackground\":true,\"ticks\":\"\",\"zerolinecolor\":\"white\",\"gridwidth\":2}},\"shapedefaults\":{\"line\":{\"color\":\"#2a3f5f\"}},\"annotationdefaults\":{\"arrowcolor\":\"#2a3f5f\",\"arrowhead\":0,\"arrowwidth\":1},\"geo\":{\"bgcolor\":\"white\",\"landcolor\":\"#E5ECF6\",\"subunitcolor\":\"white\",\"showland\":true,\"showlakes\":true,\"lakecolor\":\"white\"},\"title\":{\"x\":0.05},\"mapbox\":{\"style\":\"light\"}}},\"xaxis\":{\"anchor\":\"y\",\"domain\":[0.0,1.0],\"title\":{\"text\":\"Transaction Type\"},\"categoryorder\":\"array\",\"categoryarray\":[\"Send Money\",\"Pochi la Biashara\",\"Till Numbers\",\"Paybill Numbers\",\"M-Shwari Deposit\",\"Airtime Purchase\"]},\"yaxis\":{\"anchor\":\"x\",\"domain\":[0.0,1.0],\"title\":{\"text\":\"Amount (KES)\"},\"tickformat\":\",.0f\"},\"legend\":{\"title\":{\"text\":\"Transaction Type\"},\"tracegroupgap\":0},\"title\":{\"text\":\"Bar Graph of the amount of money I spent on Send Money, Pochi la Biashara, Till Numbers and Paybill Numbers services in 2024\",\"font\":{\"size\":14,\"color\":\"blue\"},\"x\":0.5},\"barmode\":\"relative\"},                        {\"responsive\": true}                    ).then(function(){\n",
              "                            \n",
              "var gd = document.getElementById('fa27c25f-4a32-4a7c-8560-3e6846dbf6c3');\n",
              "var x = new MutationObserver(function (mutations, observer) {{\n",
              "        var display = window.getComputedStyle(gd).display;\n",
              "        if (!display || display === 'none') {{\n",
              "            console.log([gd, 'removed!']);\n",
              "            Plotly.purge(gd);\n",
              "            observer.disconnect();\n",
              "        }}\n",
              "}});\n",
              "\n",
              "// Listen for the removal of the full notebook cells\n",
              "var notebookContainer = gd.closest('#notebook-container');\n",
              "if (notebookContainer) {{\n",
              "    x.observe(notebookContainer, {childList: true});\n",
              "}}\n",
              "\n",
              "// Listen for the clearing of the current output cell\n",
              "var outputEl = gd.closest('.output');\n",
              "if (outputEl) {{\n",
              "    x.observe(outputEl, {childList: true});\n",
              "}}\n",
              "\n",
              "                        })                };                            </script>        </div>\n",
              "</body>\n",
              "</html>"
            ]
          },
          "metadata": {}
        }
      ]
    },
    {
      "cell_type": "code",
      "source": [
        "# 4.2 Results Verification\n",
        "\n",
        "# We can verify the results by calculating the total amount spent across all categories to see if it matches the amount I had calculated as my total spending (KSHS 981,420.00)\n",
        "total_categorical_spending = (\n",
        "    send_money_total +\n",
        "    pochi_total +\n",
        "    till_total +\n",
        "    paybill_total +\n",
        "    mshwari_deposit_total +\n",
        "    airtime_total\n",
        ")\n",
        "print(f\"I spent KES {total_spent:,.2f} across all categories in 2024 using M-Pesa.\")"
      ],
      "metadata": {
        "colab": {
          "base_uri": "https://localhost:8080/"
        },
        "id": "Jom5fszYADqb",
        "outputId": "c9086379-cf2e-450c-9e7e-ffa73f00e0f4"
      },
      "execution_count": 18,
      "outputs": [
        {
          "output_type": "stream",
          "name": "stdout",
          "text": [
            "I spent KES 913,585.00 across all categories in 2024 using M-Pesa.\n"
          ]
        }
      ]
    },
    {
      "cell_type": "code",
      "source": [
        "# Viola!!!😂😂😂\n",
        "# We see that the amount I have calculated above matches my total spending on M-Pesa for 2024😊😊😊\n",
        "# Furthermore, this result matches the one displayed on my M-Pesa App😂😂😂\n",
        "# This means the code is correct and we are good to proceed 😂😂😂"
      ],
      "metadata": {
        "id": "oXpWWmshDUZm"
      },
      "execution_count": 19,
      "outputs": []
    },
    {
      "cell_type": "code",
      "source": [
        "# By the way it looks like I was sending a lot of money to my M-Shwari account 😂😂😂\n",
        "# Don't ask me why I was storing away all my cash 😂😂😂\n",
        "# On the other hand though, I sent most of my cash to send money accounts\n",
        "# We will see which person I sent the most amount of money later on 😊😊😊\n",
        "# A few Paybills, Tills and Pochi's received my money 😂😪😂\n",
        "# I don't know why I spent so little on Airtime. Perhaps its because I have very few friends😂😂😂\n",
        "# Anyway, let's go ahead and look deeper into my monthly spending patterns"
      ],
      "metadata": {
        "id": "1dytTmljHLCw"
      },
      "execution_count": 20,
      "outputs": []
    },
    {
      "source": [
        "# 5. My monthly spending in the year 2024\n",
        "\n",
        "# Extracting Year-Month for grouping\n",
        "df['Date'] = pd.to_datetime(df['Date']) # Ensuring 'Date' is datetime type\n",
        "df['Month'] = df['Date'].dt.strftime('%B %Y')\n",
        "\n",
        "# Calculating my total spending per month\n",
        "monthly_spendings = df.groupby('Month')['Withdrawn'].sum().reset_index()\n",
        "\n",
        "# Renaming columns for better readability\n",
        "monthly_spendings.columns = ['Month', 'Total Spent (KSHS)']\n",
        "\n",
        "# Sorting the months in chronological order\n",
        "monthly_spendings['Date_Sort'] = pd.to_datetime(monthly_spendings['Month'], format='%B %Y')\n",
        "monthly_spendings = monthly_spendings.sort_values(by='Date_Sort').drop(columns=['Date_Sort'])\n",
        "\n",
        "# Formatting the currency for readability\n",
        "monthly_spendings['Total Spent (KSHS)'] = monthly_spendings['Total Spent (KSHS)'].apply(lambda x: f\"{x:,.2f}\")\n",
        "\n",
        "# Displaying the monthly spendings table\n",
        "print(monthly_spendings.to_string(index=False))"
      ],
      "cell_type": "code",
      "metadata": {
        "colab": {
          "base_uri": "https://localhost:8080/"
        },
        "id": "P52WY6NOn_S4",
        "outputId": "8506cc01-2b94-4896-c2bd-a98614a575e2"
      },
      "execution_count": 21,
      "outputs": [
        {
          "output_type": "stream",
          "name": "stdout",
          "text": [
            "         Month Total Spent (KSHS)\n",
            "  January 2024          31,685.00\n",
            " February 2024          37,496.00\n",
            "    March 2024          71,219.00\n",
            "    April 2024          16,338.00\n",
            "      May 2024          88,755.00\n",
            "     June 2024         117,400.00\n",
            "     July 2024         137,713.00\n",
            "   August 2024          21,854.00\n",
            "September 2024          57,634.00\n",
            "  October 2024          83,762.00\n",
            " November 2024         100,695.00\n",
            " December 2024         216,869.00\n"
          ]
        }
      ]
    },
    {
      "cell_type": "code",
      "source": [
        "# As we can see, I spent the most amount of money in December(KSHS 216,869.00) and the least amount of money in April (KSHS 16,338).\n",
        "# April was a tough month for the comrade😂😂😂.\n",
        "# For December it goes without saying ... it was Christmas period😂😂😎😎👌👌\n",
        "\n",
        "# Now let's visualize these results for better analysis.\n",
        "# Note that the graph is interactive and you can hover over the elements of the graph to get more insights"
      ],
      "metadata": {
        "id": "Ot44u-PLhog5"
      },
      "execution_count": 22,
      "outputs": []
    },
    {
      "source": [
        "# 5.1 Bar chart of my monthly spending in the year 2024\n",
        "\n",
        "# Calculating my total spending per month\n",
        "monthly_spendings = df.groupby('Month')['Withdrawn'].sum().reset_index()\n",
        "\n",
        "# Renaming the columns for better readability\n",
        "monthly_spendings.columns = ['Month', 'Total Spent (KSHS)']\n",
        "\n",
        "# Sorting the months in chronological order\n",
        "monthly_spendings['Date_Sort'] = pd.to_datetime(monthly_spendings['Month'], format='%B %Y')\n",
        "monthly_spendings = monthly_spendings.sort_values(by='Date_Sort').drop(columns=['Date_Sort'])\n",
        "\n",
        "# Formatting the currency for readability\n",
        "monthly_spendings['Total Spent (KSHS)'] = monthly_spendings['Total Spent (KSHS)'].apply(lambda x: f\"{x:,.2f}\")\n",
        "\n",
        "# Converting 'Total Spent (KSHS)' to numeric after removing commas\n",
        "monthly_spendings['Total Spent (KSHS)'] = monthly_spendings['Total Spent (KSHS)'].str.replace(',', '').astype(float)\n",
        "\n",
        "# Calculating the total spending for all months\n",
        "total_spending = monthly_spendings['Total Spent (KSHS)'].sum()\n",
        "\n",
        "# Calculating the percentage of spending for each month\n",
        "monthly_spendings['Percentage'] = (monthly_spendings['Total Spent (KSHS)'] / total_spending) * 100\n",
        "\n",
        "# Formatting the percentages as strings with one decimal place and a '%' sign\n",
        "monthly_spendings['Percentage_Text'] = monthly_spendings['Percentage'].apply(lambda x: f\"{x:.1f}%\")\n",
        "\n",
        "\n",
        "# Creating the bar chart using Plotly Express\n",
        "fig = px.bar(\n",
        "    monthly_spendings,\n",
        "    x=\"Month\",\n",
        "    y=\"Total Spent (KSHS)\",\n",
        "    title=\"Bar chart of my monthly spending in the year 2024\",\n",
        "    labels={\"Total Spent (KSHS)\": \"Total Spent (KSHS)\", \"Month\": \"Month\"},\n",
        "    color=\"Month\",\n",
        "    color_discrete_sequence=px.colors.sequential.Turbo,\n",
        "    text='Percentage_Text'\n",
        ")\n",
        "\n",
        "# Customizing the layout for better readability\n",
        "fig.update_layout(\n",
        "    xaxis_tickangle=-45,\n",
        "    title_font_size = 14,\n",
        "    title_font_color = \"blue\",\n",
        "    title_x=0.5,\n",
        "    yaxis_tickformat = ',.0f'\n",
        ")\n",
        "\n",
        "# Showing the bar chart\n",
        "fig.show()"
      ],
      "cell_type": "code",
      "metadata": {
        "colab": {
          "base_uri": "https://localhost:8080/",
          "height": 542
        },
        "id": "i_EmHX7Kqa5q",
        "outputId": "4ff0df21-ccb2-4fa2-d021-56a04a40209a"
      },
      "execution_count": 23,
      "outputs": [
        {
          "output_type": "display_data",
          "data": {
            "text/html": [
              "<html>\n",
              "<head><meta charset=\"utf-8\" /></head>\n",
              "<body>\n",
              "    <div>            <script src=\"https://cdnjs.cloudflare.com/ajax/libs/mathjax/2.7.5/MathJax.js?config=TeX-AMS-MML_SVG\"></script><script type=\"text/javascript\">if (window.MathJax && window.MathJax.Hub && window.MathJax.Hub.Config) {window.MathJax.Hub.Config({SVG: {font: \"STIX-Web\"}});}</script>                <script type=\"text/javascript\">window.PlotlyConfig = {MathJaxConfig: 'local'};</script>\n",
              "        <script charset=\"utf-8\" src=\"https://cdn.plot.ly/plotly-2.35.2.min.js\"></script>                <div id=\"4d746461-bbf0-434b-978e-580819a52d75\" class=\"plotly-graph-div\" style=\"height:525px; width:100%;\"></div>            <script type=\"text/javascript\">                                    window.PLOTLYENV=window.PLOTLYENV || {};                                    if (document.getElementById(\"4d746461-bbf0-434b-978e-580819a52d75\")) {                    Plotly.newPlot(                        \"4d746461-bbf0-434b-978e-580819a52d75\",                        [{\"alignmentgroup\":\"True\",\"hovertemplate\":\"Month=%{x}\\u003cbr\\u003eTotal Spent (KSHS)=%{y}\\u003cbr\\u003ePercentage_Text=%{text}\\u003cextra\\u003e\\u003c\\u002fextra\\u003e\",\"legendgroup\":\"January 2024\",\"marker\":{\"color\":\"#30123b\",\"pattern\":{\"shape\":\"\"}},\"name\":\"January 2024\",\"offsetgroup\":\"January 2024\",\"orientation\":\"v\",\"showlegend\":true,\"text\":[\"3.2%\"],\"textposition\":\"auto\",\"x\":[\"January 2024\"],\"xaxis\":\"x\",\"y\":[31685.0],\"yaxis\":\"y\",\"type\":\"bar\"},{\"alignmentgroup\":\"True\",\"hovertemplate\":\"Month=%{x}\\u003cbr\\u003eTotal Spent (KSHS)=%{y}\\u003cbr\\u003ePercentage_Text=%{text}\\u003cextra\\u003e\\u003c\\u002fextra\\u003e\",\"legendgroup\":\"February 2024\",\"marker\":{\"color\":\"#4145ab\",\"pattern\":{\"shape\":\"\"}},\"name\":\"February 2024\",\"offsetgroup\":\"February 2024\",\"orientation\":\"v\",\"showlegend\":true,\"text\":[\"3.8%\"],\"textposition\":\"auto\",\"x\":[\"February 2024\"],\"xaxis\":\"x\",\"y\":[37496.0],\"yaxis\":\"y\",\"type\":\"bar\"},{\"alignmentgroup\":\"True\",\"hovertemplate\":\"Month=%{x}\\u003cbr\\u003eTotal Spent (KSHS)=%{y}\\u003cbr\\u003ePercentage_Text=%{text}\\u003cextra\\u003e\\u003c\\u002fextra\\u003e\",\"legendgroup\":\"March 2024\",\"marker\":{\"color\":\"#4675ed\",\"pattern\":{\"shape\":\"\"}},\"name\":\"March 2024\",\"offsetgroup\":\"March 2024\",\"orientation\":\"v\",\"showlegend\":true,\"text\":[\"7.3%\"],\"textposition\":\"auto\",\"x\":[\"March 2024\"],\"xaxis\":\"x\",\"y\":[71219.0],\"yaxis\":\"y\",\"type\":\"bar\"},{\"alignmentgroup\":\"True\",\"hovertemplate\":\"Month=%{x}\\u003cbr\\u003eTotal Spent (KSHS)=%{y}\\u003cbr\\u003ePercentage_Text=%{text}\\u003cextra\\u003e\\u003c\\u002fextra\\u003e\",\"legendgroup\":\"April 2024\",\"marker\":{\"color\":\"#39a2fc\",\"pattern\":{\"shape\":\"\"}},\"name\":\"April 2024\",\"offsetgroup\":\"April 2024\",\"orientation\":\"v\",\"showlegend\":true,\"text\":[\"1.7%\"],\"textposition\":\"auto\",\"x\":[\"April 2024\"],\"xaxis\":\"x\",\"y\":[16338.0],\"yaxis\":\"y\",\"type\":\"bar\"},{\"alignmentgroup\":\"True\",\"hovertemplate\":\"Month=%{x}\\u003cbr\\u003eTotal Spent (KSHS)=%{y}\\u003cbr\\u003ePercentage_Text=%{text}\\u003cextra\\u003e\\u003c\\u002fextra\\u003e\",\"legendgroup\":\"May 2024\",\"marker\":{\"color\":\"#1bcfd4\",\"pattern\":{\"shape\":\"\"}},\"name\":\"May 2024\",\"offsetgroup\":\"May 2024\",\"orientation\":\"v\",\"showlegend\":true,\"text\":[\"9.0%\"],\"textposition\":\"auto\",\"x\":[\"May 2024\"],\"xaxis\":\"x\",\"y\":[88755.0],\"yaxis\":\"y\",\"type\":\"bar\"},{\"alignmentgroup\":\"True\",\"hovertemplate\":\"Month=%{x}\\u003cbr\\u003eTotal Spent (KSHS)=%{y}\\u003cbr\\u003ePercentage_Text=%{text}\\u003cextra\\u003e\\u003c\\u002fextra\\u003e\",\"legendgroup\":\"June 2024\",\"marker\":{\"color\":\"#24eca6\",\"pattern\":{\"shape\":\"\"}},\"name\":\"June 2024\",\"offsetgroup\":\"June 2024\",\"orientation\":\"v\",\"showlegend\":true,\"text\":[\"12.0%\"],\"textposition\":\"auto\",\"x\":[\"June 2024\"],\"xaxis\":\"x\",\"y\":[117400.0],\"yaxis\":\"y\",\"type\":\"bar\"},{\"alignmentgroup\":\"True\",\"hovertemplate\":\"Month=%{x}\\u003cbr\\u003eTotal Spent (KSHS)=%{y}\\u003cbr\\u003ePercentage_Text=%{text}\\u003cextra\\u003e\\u003c\\u002fextra\\u003e\",\"legendgroup\":\"July 2024\",\"marker\":{\"color\":\"#61fc6c\",\"pattern\":{\"shape\":\"\"}},\"name\":\"July 2024\",\"offsetgroup\":\"July 2024\",\"orientation\":\"v\",\"showlegend\":true,\"text\":[\"14.0%\"],\"textposition\":\"auto\",\"x\":[\"July 2024\"],\"xaxis\":\"x\",\"y\":[137713.0],\"yaxis\":\"y\",\"type\":\"bar\"},{\"alignmentgroup\":\"True\",\"hovertemplate\":\"Month=%{x}\\u003cbr\\u003eTotal Spent (KSHS)=%{y}\\u003cbr\\u003ePercentage_Text=%{text}\\u003cextra\\u003e\\u003c\\u002fextra\\u003e\",\"legendgroup\":\"August 2024\",\"marker\":{\"color\":\"#a4fc3b\",\"pattern\":{\"shape\":\"\"}},\"name\":\"August 2024\",\"offsetgroup\":\"August 2024\",\"orientation\":\"v\",\"showlegend\":true,\"text\":[\"2.2%\"],\"textposition\":\"auto\",\"x\":[\"August 2024\"],\"xaxis\":\"x\",\"y\":[21854.0],\"yaxis\":\"y\",\"type\":\"bar\"},{\"alignmentgroup\":\"True\",\"hovertemplate\":\"Month=%{x}\\u003cbr\\u003eTotal Spent (KSHS)=%{y}\\u003cbr\\u003ePercentage_Text=%{text}\\u003cextra\\u003e\\u003c\\u002fextra\\u003e\",\"legendgroup\":\"September 2024\",\"marker\":{\"color\":\"#d1e834\",\"pattern\":{\"shape\":\"\"}},\"name\":\"September 2024\",\"offsetgroup\":\"September 2024\",\"orientation\":\"v\",\"showlegend\":true,\"text\":[\"5.9%\"],\"textposition\":\"auto\",\"x\":[\"September 2024\"],\"xaxis\":\"x\",\"y\":[57634.0],\"yaxis\":\"y\",\"type\":\"bar\"},{\"alignmentgroup\":\"True\",\"hovertemplate\":\"Month=%{x}\\u003cbr\\u003eTotal Spent (KSHS)=%{y}\\u003cbr\\u003ePercentage_Text=%{text}\\u003cextra\\u003e\\u003c\\u002fextra\\u003e\",\"legendgroup\":\"October 2024\",\"marker\":{\"color\":\"#f3c63a\",\"pattern\":{\"shape\":\"\"}},\"name\":\"October 2024\",\"offsetgroup\":\"October 2024\",\"orientation\":\"v\",\"showlegend\":true,\"text\":[\"8.5%\"],\"textposition\":\"auto\",\"x\":[\"October 2024\"],\"xaxis\":\"x\",\"y\":[83762.0],\"yaxis\":\"y\",\"type\":\"bar\"},{\"alignmentgroup\":\"True\",\"hovertemplate\":\"Month=%{x}\\u003cbr\\u003eTotal Spent (KSHS)=%{y}\\u003cbr\\u003ePercentage_Text=%{text}\\u003cextra\\u003e\\u003c\\u002fextra\\u003e\",\"legendgroup\":\"November 2024\",\"marker\":{\"color\":\"#fe9b2d\",\"pattern\":{\"shape\":\"\"}},\"name\":\"November 2024\",\"offsetgroup\":\"November 2024\",\"orientation\":\"v\",\"showlegend\":true,\"text\":[\"10.3%\"],\"textposition\":\"auto\",\"x\":[\"November 2024\"],\"xaxis\":\"x\",\"y\":[100695.0],\"yaxis\":\"y\",\"type\":\"bar\"},{\"alignmentgroup\":\"True\",\"hovertemplate\":\"Month=%{x}\\u003cbr\\u003eTotal Spent (KSHS)=%{y}\\u003cbr\\u003ePercentage_Text=%{text}\\u003cextra\\u003e\\u003c\\u002fextra\\u003e\",\"legendgroup\":\"December 2024\",\"marker\":{\"color\":\"#f36315\",\"pattern\":{\"shape\":\"\"}},\"name\":\"December 2024\",\"offsetgroup\":\"December 2024\",\"orientation\":\"v\",\"showlegend\":true,\"text\":[\"22.1%\"],\"textposition\":\"auto\",\"x\":[\"December 2024\"],\"xaxis\":\"x\",\"y\":[216869.0],\"yaxis\":\"y\",\"type\":\"bar\"}],                        {\"template\":{\"data\":{\"histogram2dcontour\":[{\"type\":\"histogram2dcontour\",\"colorbar\":{\"outlinewidth\":0,\"ticks\":\"\"},\"colorscale\":[[0.0,\"#0d0887\"],[0.1111111111111111,\"#46039f\"],[0.2222222222222222,\"#7201a8\"],[0.3333333333333333,\"#9c179e\"],[0.4444444444444444,\"#bd3786\"],[0.5555555555555556,\"#d8576b\"],[0.6666666666666666,\"#ed7953\"],[0.7777777777777778,\"#fb9f3a\"],[0.8888888888888888,\"#fdca26\"],[1.0,\"#f0f921\"]]}],\"choropleth\":[{\"type\":\"choropleth\",\"colorbar\":{\"outlinewidth\":0,\"ticks\":\"\"}}],\"histogram2d\":[{\"type\":\"histogram2d\",\"colorbar\":{\"outlinewidth\":0,\"ticks\":\"\"},\"colorscale\":[[0.0,\"#0d0887\"],[0.1111111111111111,\"#46039f\"],[0.2222222222222222,\"#7201a8\"],[0.3333333333333333,\"#9c179e\"],[0.4444444444444444,\"#bd3786\"],[0.5555555555555556,\"#d8576b\"],[0.6666666666666666,\"#ed7953\"],[0.7777777777777778,\"#fb9f3a\"],[0.8888888888888888,\"#fdca26\"],[1.0,\"#f0f921\"]]}],\"heatmap\":[{\"type\":\"heatmap\",\"colorbar\":{\"outlinewidth\":0,\"ticks\":\"\"},\"colorscale\":[[0.0,\"#0d0887\"],[0.1111111111111111,\"#46039f\"],[0.2222222222222222,\"#7201a8\"],[0.3333333333333333,\"#9c179e\"],[0.4444444444444444,\"#bd3786\"],[0.5555555555555556,\"#d8576b\"],[0.6666666666666666,\"#ed7953\"],[0.7777777777777778,\"#fb9f3a\"],[0.8888888888888888,\"#fdca26\"],[1.0,\"#f0f921\"]]}],\"heatmapgl\":[{\"type\":\"heatmapgl\",\"colorbar\":{\"outlinewidth\":0,\"ticks\":\"\"},\"colorscale\":[[0.0,\"#0d0887\"],[0.1111111111111111,\"#46039f\"],[0.2222222222222222,\"#7201a8\"],[0.3333333333333333,\"#9c179e\"],[0.4444444444444444,\"#bd3786\"],[0.5555555555555556,\"#d8576b\"],[0.6666666666666666,\"#ed7953\"],[0.7777777777777778,\"#fb9f3a\"],[0.8888888888888888,\"#fdca26\"],[1.0,\"#f0f921\"]]}],\"contourcarpet\":[{\"type\":\"contourcarpet\",\"colorbar\":{\"outlinewidth\":0,\"ticks\":\"\"}}],\"contour\":[{\"type\":\"contour\",\"colorbar\":{\"outlinewidth\":0,\"ticks\":\"\"},\"colorscale\":[[0.0,\"#0d0887\"],[0.1111111111111111,\"#46039f\"],[0.2222222222222222,\"#7201a8\"],[0.3333333333333333,\"#9c179e\"],[0.4444444444444444,\"#bd3786\"],[0.5555555555555556,\"#d8576b\"],[0.6666666666666666,\"#ed7953\"],[0.7777777777777778,\"#fb9f3a\"],[0.8888888888888888,\"#fdca26\"],[1.0,\"#f0f921\"]]}],\"surface\":[{\"type\":\"surface\",\"colorbar\":{\"outlinewidth\":0,\"ticks\":\"\"},\"colorscale\":[[0.0,\"#0d0887\"],[0.1111111111111111,\"#46039f\"],[0.2222222222222222,\"#7201a8\"],[0.3333333333333333,\"#9c179e\"],[0.4444444444444444,\"#bd3786\"],[0.5555555555555556,\"#d8576b\"],[0.6666666666666666,\"#ed7953\"],[0.7777777777777778,\"#fb9f3a\"],[0.8888888888888888,\"#fdca26\"],[1.0,\"#f0f921\"]]}],\"mesh3d\":[{\"type\":\"mesh3d\",\"colorbar\":{\"outlinewidth\":0,\"ticks\":\"\"}}],\"scatter\":[{\"fillpattern\":{\"fillmode\":\"overlay\",\"size\":10,\"solidity\":0.2},\"type\":\"scatter\"}],\"parcoords\":[{\"type\":\"parcoords\",\"line\":{\"colorbar\":{\"outlinewidth\":0,\"ticks\":\"\"}}}],\"scatterpolargl\":[{\"type\":\"scatterpolargl\",\"marker\":{\"colorbar\":{\"outlinewidth\":0,\"ticks\":\"\"}}}],\"bar\":[{\"error_x\":{\"color\":\"#2a3f5f\"},\"error_y\":{\"color\":\"#2a3f5f\"},\"marker\":{\"line\":{\"color\":\"#E5ECF6\",\"width\":0.5},\"pattern\":{\"fillmode\":\"overlay\",\"size\":10,\"solidity\":0.2}},\"type\":\"bar\"}],\"scattergeo\":[{\"type\":\"scattergeo\",\"marker\":{\"colorbar\":{\"outlinewidth\":0,\"ticks\":\"\"}}}],\"scatterpolar\":[{\"type\":\"scatterpolar\",\"marker\":{\"colorbar\":{\"outlinewidth\":0,\"ticks\":\"\"}}}],\"histogram\":[{\"marker\":{\"pattern\":{\"fillmode\":\"overlay\",\"size\":10,\"solidity\":0.2}},\"type\":\"histogram\"}],\"scattergl\":[{\"type\":\"scattergl\",\"marker\":{\"colorbar\":{\"outlinewidth\":0,\"ticks\":\"\"}}}],\"scatter3d\":[{\"type\":\"scatter3d\",\"line\":{\"colorbar\":{\"outlinewidth\":0,\"ticks\":\"\"}},\"marker\":{\"colorbar\":{\"outlinewidth\":0,\"ticks\":\"\"}}}],\"scattermapbox\":[{\"type\":\"scattermapbox\",\"marker\":{\"colorbar\":{\"outlinewidth\":0,\"ticks\":\"\"}}}],\"scatterternary\":[{\"type\":\"scatterternary\",\"marker\":{\"colorbar\":{\"outlinewidth\":0,\"ticks\":\"\"}}}],\"scattercarpet\":[{\"type\":\"scattercarpet\",\"marker\":{\"colorbar\":{\"outlinewidth\":0,\"ticks\":\"\"}}}],\"carpet\":[{\"aaxis\":{\"endlinecolor\":\"#2a3f5f\",\"gridcolor\":\"white\",\"linecolor\":\"white\",\"minorgridcolor\":\"white\",\"startlinecolor\":\"#2a3f5f\"},\"baxis\":{\"endlinecolor\":\"#2a3f5f\",\"gridcolor\":\"white\",\"linecolor\":\"white\",\"minorgridcolor\":\"white\",\"startlinecolor\":\"#2a3f5f\"},\"type\":\"carpet\"}],\"table\":[{\"cells\":{\"fill\":{\"color\":\"#EBF0F8\"},\"line\":{\"color\":\"white\"}},\"header\":{\"fill\":{\"color\":\"#C8D4E3\"},\"line\":{\"color\":\"white\"}},\"type\":\"table\"}],\"barpolar\":[{\"marker\":{\"line\":{\"color\":\"#E5ECF6\",\"width\":0.5},\"pattern\":{\"fillmode\":\"overlay\",\"size\":10,\"solidity\":0.2}},\"type\":\"barpolar\"}],\"pie\":[{\"automargin\":true,\"type\":\"pie\"}]},\"layout\":{\"autotypenumbers\":\"strict\",\"colorway\":[\"#636efa\",\"#EF553B\",\"#00cc96\",\"#ab63fa\",\"#FFA15A\",\"#19d3f3\",\"#FF6692\",\"#B6E880\",\"#FF97FF\",\"#FECB52\"],\"font\":{\"color\":\"#2a3f5f\"},\"hovermode\":\"closest\",\"hoverlabel\":{\"align\":\"left\"},\"paper_bgcolor\":\"white\",\"plot_bgcolor\":\"#E5ECF6\",\"polar\":{\"bgcolor\":\"#E5ECF6\",\"angularaxis\":{\"gridcolor\":\"white\",\"linecolor\":\"white\",\"ticks\":\"\"},\"radialaxis\":{\"gridcolor\":\"white\",\"linecolor\":\"white\",\"ticks\":\"\"}},\"ternary\":{\"bgcolor\":\"#E5ECF6\",\"aaxis\":{\"gridcolor\":\"white\",\"linecolor\":\"white\",\"ticks\":\"\"},\"baxis\":{\"gridcolor\":\"white\",\"linecolor\":\"white\",\"ticks\":\"\"},\"caxis\":{\"gridcolor\":\"white\",\"linecolor\":\"white\",\"ticks\":\"\"}},\"coloraxis\":{\"colorbar\":{\"outlinewidth\":0,\"ticks\":\"\"}},\"colorscale\":{\"sequential\":[[0.0,\"#0d0887\"],[0.1111111111111111,\"#46039f\"],[0.2222222222222222,\"#7201a8\"],[0.3333333333333333,\"#9c179e\"],[0.4444444444444444,\"#bd3786\"],[0.5555555555555556,\"#d8576b\"],[0.6666666666666666,\"#ed7953\"],[0.7777777777777778,\"#fb9f3a\"],[0.8888888888888888,\"#fdca26\"],[1.0,\"#f0f921\"]],\"sequentialminus\":[[0.0,\"#0d0887\"],[0.1111111111111111,\"#46039f\"],[0.2222222222222222,\"#7201a8\"],[0.3333333333333333,\"#9c179e\"],[0.4444444444444444,\"#bd3786\"],[0.5555555555555556,\"#d8576b\"],[0.6666666666666666,\"#ed7953\"],[0.7777777777777778,\"#fb9f3a\"],[0.8888888888888888,\"#fdca26\"],[1.0,\"#f0f921\"]],\"diverging\":[[0,\"#8e0152\"],[0.1,\"#c51b7d\"],[0.2,\"#de77ae\"],[0.3,\"#f1b6da\"],[0.4,\"#fde0ef\"],[0.5,\"#f7f7f7\"],[0.6,\"#e6f5d0\"],[0.7,\"#b8e186\"],[0.8,\"#7fbc41\"],[0.9,\"#4d9221\"],[1,\"#276419\"]]},\"xaxis\":{\"gridcolor\":\"white\",\"linecolor\":\"white\",\"ticks\":\"\",\"title\":{\"standoff\":15},\"zerolinecolor\":\"white\",\"automargin\":true,\"zerolinewidth\":2},\"yaxis\":{\"gridcolor\":\"white\",\"linecolor\":\"white\",\"ticks\":\"\",\"title\":{\"standoff\":15},\"zerolinecolor\":\"white\",\"automargin\":true,\"zerolinewidth\":2},\"scene\":{\"xaxis\":{\"backgroundcolor\":\"#E5ECF6\",\"gridcolor\":\"white\",\"linecolor\":\"white\",\"showbackground\":true,\"ticks\":\"\",\"zerolinecolor\":\"white\",\"gridwidth\":2},\"yaxis\":{\"backgroundcolor\":\"#E5ECF6\",\"gridcolor\":\"white\",\"linecolor\":\"white\",\"showbackground\":true,\"ticks\":\"\",\"zerolinecolor\":\"white\",\"gridwidth\":2},\"zaxis\":{\"backgroundcolor\":\"#E5ECF6\",\"gridcolor\":\"white\",\"linecolor\":\"white\",\"showbackground\":true,\"ticks\":\"\",\"zerolinecolor\":\"white\",\"gridwidth\":2}},\"shapedefaults\":{\"line\":{\"color\":\"#2a3f5f\"}},\"annotationdefaults\":{\"arrowcolor\":\"#2a3f5f\",\"arrowhead\":0,\"arrowwidth\":1},\"geo\":{\"bgcolor\":\"white\",\"landcolor\":\"#E5ECF6\",\"subunitcolor\":\"white\",\"showland\":true,\"showlakes\":true,\"lakecolor\":\"white\"},\"title\":{\"x\":0.05},\"mapbox\":{\"style\":\"light\"}}},\"xaxis\":{\"anchor\":\"y\",\"domain\":[0.0,1.0],\"title\":{\"text\":\"Month\"},\"categoryorder\":\"array\",\"categoryarray\":[\"January 2024\",\"February 2024\",\"March 2024\",\"April 2024\",\"May 2024\",\"June 2024\",\"July 2024\",\"August 2024\",\"September 2024\",\"October 2024\",\"November 2024\",\"December 2024\"],\"tickangle\":-45},\"yaxis\":{\"anchor\":\"x\",\"domain\":[0.0,1.0],\"title\":{\"text\":\"Total Spent (KSHS)\"},\"tickformat\":\",.0f\"},\"legend\":{\"title\":{\"text\":\"Month\"},\"tracegroupgap\":0},\"title\":{\"text\":\"Bar chart of my monthly spending in the year 2024\",\"font\":{\"size\":14,\"color\":\"blue\"},\"x\":0.5},\"barmode\":\"relative\"},                        {\"responsive\": true}                    ).then(function(){\n",
              "                            \n",
              "var gd = document.getElementById('4d746461-bbf0-434b-978e-580819a52d75');\n",
              "var x = new MutationObserver(function (mutations, observer) {{\n",
              "        var display = window.getComputedStyle(gd).display;\n",
              "        if (!display || display === 'none') {{\n",
              "            console.log([gd, 'removed!']);\n",
              "            Plotly.purge(gd);\n",
              "            observer.disconnect();\n",
              "        }}\n",
              "}});\n",
              "\n",
              "// Listen for the removal of the full notebook cells\n",
              "var notebookContainer = gd.closest('#notebook-container');\n",
              "if (notebookContainer) {{\n",
              "    x.observe(notebookContainer, {childList: true});\n",
              "}}\n",
              "\n",
              "// Listen for the clearing of the current output cell\n",
              "var outputEl = gd.closest('.output');\n",
              "if (outputEl) {{\n",
              "    x.observe(outputEl, {childList: true});\n",
              "}}\n",
              "\n",
              "                        })                };                            </script>        </div>\n",
              "</body>\n",
              "</html>"
            ]
          },
          "metadata": {}
        }
      ]
    },
    {
      "cell_type": "code",
      "source": [
        "# 5.2 Results Verification\n",
        "\n",
        "# Again, we can verify the results by calculating the total amount spent in all the 12 months to see if it matches the amount I had calculated as my total spending (KSHS 981,420.00)\n",
        "# Creating a dictionary with all my monthly spendings\n",
        "monthly_spendings = {\n",
        "    \"January 2024\": 31685.00,\n",
        "    \"February 2024\": 37496.00,\n",
        "    \"March 2024\": 71219.00,\n",
        "    \"April 2024\": 16338.00,\n",
        "    \"May 2024\": 88755.00,\n",
        "    \"June 2024\": 117400.00,\n",
        "    \"July 2024\": 137713.00,\n",
        "    \"August 2024\": 21854.00,\n",
        "    \"September 2024\": 57634.00,\n",
        "    \"October 2024\": 83762.00,\n",
        "    \"November 2024\": 100695.00,\n",
        "    \"December 2024\": 216869.00,\n",
        "}\n",
        "\n",
        "# Calculating the total spending for the year\n",
        "total_spending = sum(monthly_spendings.values())\n",
        "\n",
        "# Printing the result\n",
        "print(f\"Total spending in 2024: KES {total_spending:,.2f}\")"
      ],
      "metadata": {
        "colab": {
          "base_uri": "https://localhost:8080/"
        },
        "id": "WeP-_RGNfZDy",
        "outputId": "a017d2e4-c000-4697-88ec-2938d67a08f3"
      },
      "execution_count": 24,
      "outputs": [
        {
          "output_type": "stream",
          "name": "stdout",
          "text": [
            "Total spending in 2024: KES 981,420.00\n"
          ]
        }
      ]
    },
    {
      "cell_type": "code",
      "source": [
        "# Yaay😂👌😂\n",
        "# It matches😂😂😂\n",
        "# And this result also matches the one displayed on the M-Pesa app😎😂😎\n",
        "\n",
        "# Now lets dive deeper and look at my daily spendings"
      ],
      "metadata": {
        "id": "it8FuFIwkL7a"
      },
      "execution_count": 25,
      "outputs": []
    },
    {
      "cell_type": "code",
      "source": [
        "# 6. Analysing my daily transactions on M-Pesa\n",
        "# In this section I will retrieve the day I spent the highest amount of money (excluding depositing to M-Swari because that is not really an expenditure) and details about the transactions\n",
        "# I will also create a graph of all the transactions for the year 2024\n",
        "\n",
        "# Ensuring 'Details' column is of string type\n",
        "df['Details'] = df['Details'].astype(str)\n",
        "\n",
        "# Filtering out M-Shwari Deposits\n",
        "df_filtered = df[~df['Details'].str.contains(\"M-Shwari Deposit\", case=False, na=False)]\n",
        "\n",
        "# Grouping by 'Date' and summing 'Withdrawn' amounts\n",
        "daily_spendings = df_filtered.groupby('Date', as_index=False)['Withdrawn'].sum()\n",
        "\n",
        "# Finding the day with the highest spending\n",
        "max_spent_day = daily_spendings.loc[daily_spendings['Withdrawn'].idxmax()]\n",
        "\n",
        "# Extracting details of the highest spending day\n",
        "highest_spending_date = max_spent_day['Date']\n",
        "highest_spent_amount = max_spent_day['Withdrawn']\n",
        "\n",
        "# Getting all transactions for that day (excluding M-Shwari deposits)\n",
        "highest_spending_day_records = df_filtered[df_filtered['Date'] == highest_spending_date].copy()\n",
        "\n",
        "# Calculating cumulative spending for that day\n",
        "highest_spending_day_records['Cumulative Amount'] = highest_spending_day_records['Withdrawn'].cumsum()\n",
        "\n",
        "# Printing the highest spending day summary\n",
        "print(f\"\\n💸 I spent the highest amount of money on {highest_spending_date.strftime('%A, %d %B %Y')}, \"\n",
        "      f\"with a total spending of KSHS {highest_spent_amount:,.2f} (excluding M-Shwari deposits).\\n\")\n",
        "\n",
        "print(\"📜 **Detailed Transactions for That Day:**\\n\")\n",
        "print(highest_spending_day_records[['Date', 'Details', 'Withdrawn', 'Cumulative Amount']].to_string(index=False))"
      ],
      "metadata": {
        "colab": {
          "base_uri": "https://localhost:8080/"
        },
        "id": "UP2dHKZpksUU",
        "outputId": "7aad45ae-0c1b-4be2-cc05-e72cff521a16"
      },
      "execution_count": 27,
      "outputs": [
        {
          "output_type": "stream",
          "name": "stdout",
          "text": [
            "\n",
            "💸 I spent the highest amount of money on Monday, 20 May 2024, with a total spending of KSHS 25,915.00 (excluding M-Shwari deposits).\n",
            "\n",
            "📜 **Detailed Transactions for That Day:**\n",
            "\n",
            "      Date                                                                 Details  Withdrawn  Cumulative Amount\n",
            "2024-05-20           Merchant Payment Online to 7203691 - MAWINGU  AIRTIME LIMITED      199.0              199.0\n",
            "2024-05-20                   Merchant Payment Online to 913237 - CISBEN   AGENCIES      100.0              299.0\n",
            "2024-05-20 Customer Payment to Small Business to - 2547******454 Alexander King'oo       80.0              379.0\n",
            "2024-05-20                                                                     nan       20.0              399.0\n",
            "2024-05-20   Customer Payment to Small Business to - 2547******740 TENAI KIPCHUMBA       50.0              449.0\n",
            "2024-05-20                   Customer Transfer to - 2547******128 JOSHUA MUTHANGYA       58.0              507.0\n",
            "2024-05-20                                                        Airtime Purchase      100.0              607.0\n",
            "2024-05-20               Merchant Payment Online to 637549 - TOPSHARKS INVESTMENTS      180.0              787.0\n",
            "2024-05-20                                       Customer Transfer of Funds Charge      108.0              895.0\n",
            "2024-05-20                      Customer Transfer to - 2547******100 fridah kaburu    25000.0            25895.0\n",
            "2024-05-20                      Funds received from - 2547******696 DENNIS MUIRURI        NaN                NaN\n",
            "2024-05-20                                                       M-Shwari Withdraw        NaN                NaN\n",
            "2024-05-20                                                                     nan       20.0            25915.0\n"
          ]
        }
      ]
    },
    {
      "cell_type": "code",
      "source": [
        "# We can see I sent someone (I won't mention who for security purposes) money that's why the spending for that day was the highest.\n",
        "# Let's filter out send money options"
      ],
      "metadata": {
        "id": "8G9OfjkbSmEg"
      },
      "execution_count": 28,
      "outputs": []
    },
    {
      "cell_type": "code",
      "source": [
        "# 6.1 expenditure without Send Money Option\n",
        "\n",
        "# Filter out M-Shwari Deposits and Customer Transfers\n",
        "df_filtered = df[~df['Details'].str.contains(\"M-Shwari Deposit|Customer Transfer\", case=False, na=False)]\n",
        "\n",
        "# Grouping by 'Date' and summing 'Withdrawn' amounts\n",
        "daily_spendings = df_filtered.groupby('Date', as_index=False)['Withdrawn'].sum()\n",
        "\n",
        "# Finding the day with the highest spending\n",
        "max_spent_day = daily_spendings.loc[daily_spendings['Withdrawn'].idxmax()]\n",
        "\n",
        "# Extracting details of the highest spending day\n",
        "highest_spending_date = max_spent_day['Date']\n",
        "highest_spent_amount = max_spent_day['Withdrawn']\n",
        "\n",
        "# Getting all transactions for that day (excluding M-Shwari deposits and customer transfers)\n",
        "highest_spending_day_records = df_filtered[df_filtered['Date'] == highest_spending_date].copy()\n",
        "\n",
        "# Calculating cumulative spending for that day\n",
        "highest_spending_day_records['Cumulative Amount'] = highest_spending_day_records['Withdrawn'].cumsum()\n",
        "\n",
        "# Printing the highest spending day summary\n",
        "print(f\"\\n💸 I spent the highest amount of money on {highest_spending_date.strftime('%A, %d %B %Y')}, \"\n",
        "      f\"with a total spending of KSHS {highest_spent_amount:,.2f} (excluding M-Shwari deposits and customer transfers).\\n\")\n",
        "\n",
        "print(\"📜 **Detailed Transactions for That Day:**\\n\")\n",
        "print(highest_spending_day_records[['Date', 'Details', 'Withdrawn', 'Cumulative Amount']].to_string(index=False))"
      ],
      "metadata": {
        "colab": {
          "base_uri": "https://localhost:8080/"
        },
        "id": "kR1gPc01TS7m",
        "outputId": "629212fb-b37c-4267-b0cb-9d0082b5dd07"
      },
      "execution_count": 29,
      "outputs": [
        {
          "output_type": "stream",
          "name": "stdout",
          "text": [
            "\n",
            "💸 I spent the highest amount of money on Monday, 09 September 2024, with a total spending of KSHS 23,099.00 (excluding M-Shwari deposits and customer transfers).\n",
            "\n",
            "📜 **Detailed Transactions for That Day:**\n",
            "\n",
            "      Date                                                            Details  Withdrawn  Cumulative Amount\n",
            "2024-09-09             Merchant Payment to 259046 - mathai supermarkets Ruiru      162.0              162.0\n",
            "2024-09-09 Customer Payment to Small Business to - 2547******555 LUCY NDUNG'U      300.0              462.0\n",
            "2024-09-09 Customer Payment to Small Business to - 2547******061 MORRIS MAINA      270.0              732.0\n",
            "2024-09-09                                                    Pay Bill Charge       67.0              799.0\n",
            "2024-09-09       Pay Bill to 247247 - Equity  Paybill Account Acc. 0766885881    22000.0            22799.0\n",
            "2024-09-09                                              M-Shwari Loan Request        NaN                NaN\n",
            "2024-09-09                                             M-Shwari Loan Disburse        NaN                NaN\n",
            "2024-09-09                        Merchant Payment to 6072842 - KEVIN MUTHAMA      150.0            22949.0\n",
            "2024-09-09                        Merchant Payment to 6072842 - KEVIN MUTHAMA      150.0            23099.0\n"
          ]
        }
      ]
    },
    {
      "cell_type": "code",
      "source": [
        "# Now this is more like it. I remember I paid school fees on that day😂😂😂\n",
        "# That was the day I spent the most amount of money in the year 😂😂😂"
      ],
      "metadata": {
        "id": "4YKeR4ltTYAb"
      },
      "execution_count": 30,
      "outputs": []
    },
    {
      "source": [
        "# 6.2 Bar chart of my daily spending in 2024\n",
        "# Note that the graph is interactive and you can hover over the elements of the graph to get more insights\n",
        "\n",
        "# Grouping by 'Date' and sum the 'Withdrawn' amounts\n",
        "daily_spendings = df.groupby('Date', as_index=False)['Withdrawn'].sum()\n",
        "\n",
        "# Calculating total spending for the entire period\n",
        "total_spending = daily_spendings['Withdrawn'].sum()\n",
        "\n",
        "# Calculating the percentage of total spending for each day\n",
        "daily_spendings['Percentage'] = (daily_spendings['Withdrawn'] / total_spending) * 100\n",
        "\n",
        "# Creating a formatted percentage text for hover\n",
        "daily_spendings['Percentage_Text'] = daily_spendings['Percentage'].apply(lambda x: f\"{x:.1f}%\")\n",
        "\n",
        "# Creating an interactive line chart using Plotly\n",
        "fig = px.line(\n",
        "    daily_spendings,\n",
        "    x='Date',\n",
        "    y='Withdrawn',\n",
        "    markers=True,\n",
        "    title=\"Bar chart of my daily spending in 2024\",\n",
        "    labels={\"Withdrawn\": \"Total Spent (KES)\", \"Date\": \"Date\"}\n",
        ")\n",
        "\n",
        "# Customizing the hover tooltip to show the percentage\n",
        "fig.update_traces(\n",
        "    hovertemplate=\"Date: %{x}<br>Total Spent (KES): %{y:,.2f}<br>Percentage of Total Spending: %{customdata}\",\n",
        "    customdata=daily_spendings['Percentage_Text'],\n",
        "    line=dict(width=2, color='blue')\n",
        ")\n",
        "\n",
        "# Showing my bar chart of my daily spending in 2024\n",
        "fig.show()"
      ],
      "cell_type": "code",
      "metadata": {
        "colab": {
          "base_uri": "https://localhost:8080/",
          "height": 542
        },
        "id": "R6VQCfbLrYQX",
        "outputId": "1f54798d-2fa5-452e-e8ee-54bcd706d026"
      },
      "execution_count": 31,
      "outputs": [
        {
          "output_type": "display_data",
          "data": {
            "text/html": [
              "<html>\n",
              "<head><meta charset=\"utf-8\" /></head>\n",
              "<body>\n",
              "    <div>            <script src=\"https://cdnjs.cloudflare.com/ajax/libs/mathjax/2.7.5/MathJax.js?config=TeX-AMS-MML_SVG\"></script><script type=\"text/javascript\">if (window.MathJax && window.MathJax.Hub && window.MathJax.Hub.Config) {window.MathJax.Hub.Config({SVG: {font: \"STIX-Web\"}});}</script>                <script type=\"text/javascript\">window.PlotlyConfig = {MathJaxConfig: 'local'};</script>\n",
              "        <script charset=\"utf-8\" src=\"https://cdn.plot.ly/plotly-2.35.2.min.js\"></script>                <div id=\"49b3b70f-59ad-4e5a-8276-20526e96c243\" class=\"plotly-graph-div\" style=\"height:525px; width:100%;\"></div>            <script type=\"text/javascript\">                                    window.PLOTLYENV=window.PLOTLYENV || {};                                    if (document.getElementById(\"49b3b70f-59ad-4e5a-8276-20526e96c243\")) {                    Plotly.newPlot(                        \"49b3b70f-59ad-4e5a-8276-20526e96c243\",                        [{\"hovertemplate\":\"Date: %{x}\\u003cbr\\u003eTotal Spent (KES): %{y:,.2f}\\u003cbr\\u003ePercentage of Total Spending: %{customdata}\",\"legendgroup\":\"\",\"line\":{\"color\":\"blue\",\"dash\":\"solid\",\"width\":2},\"marker\":{\"symbol\":\"circle\"},\"mode\":\"lines+markers\",\"name\":\"\",\"orientation\":\"v\",\"showlegend\":false,\"x\":[\"2024-01-01T00:00:00\",\"2024-01-02T00:00:00\",\"2024-01-04T00:00:00\",\"2024-01-05T00:00:00\",\"2024-01-06T00:00:00\",\"2024-01-07T00:00:00\",\"2024-01-08T00:00:00\",\"2024-01-09T00:00:00\",\"2024-01-10T00:00:00\",\"2024-01-11T00:00:00\",\"2024-01-12T00:00:00\",\"2024-01-13T00:00:00\",\"2024-01-14T00:00:00\",\"2024-01-15T00:00:00\",\"2024-01-16T00:00:00\",\"2024-01-17T00:00:00\",\"2024-01-18T00:00:00\",\"2024-01-19T00:00:00\",\"2024-01-20T00:00:00\",\"2024-01-21T00:00:00\",\"2024-01-22T00:00:00\",\"2024-01-23T00:00:00\",\"2024-01-24T00:00:00\",\"2024-01-25T00:00:00\",\"2024-01-26T00:00:00\",\"2024-01-27T00:00:00\",\"2024-01-28T00:00:00\",\"2024-01-29T00:00:00\",\"2024-01-30T00:00:00\",\"2024-01-31T00:00:00\",\"2024-02-01T00:00:00\",\"2024-02-02T00:00:00\",\"2024-02-03T00:00:00\",\"2024-02-04T00:00:00\",\"2024-02-05T00:00:00\",\"2024-02-06T00:00:00\",\"2024-02-07T00:00:00\",\"2024-02-08T00:00:00\",\"2024-02-10T00:00:00\",\"2024-02-11T00:00:00\",\"2024-02-12T00:00:00\",\"2024-02-13T00:00:00\",\"2024-02-14T00:00:00\",\"2024-02-15T00:00:00\",\"2024-02-16T00:00:00\",\"2024-02-18T00:00:00\",\"2024-02-19T00:00:00\",\"2024-02-20T00:00:00\",\"2024-02-21T00:00:00\",\"2024-02-22T00:00:00\",\"2024-02-23T00:00:00\",\"2024-02-24T00:00:00\",\"2024-02-25T00:00:00\",\"2024-02-26T00:00:00\",\"2024-02-27T00:00:00\",\"2024-02-28T00:00:00\",\"2024-02-29T00:00:00\",\"2024-03-01T00:00:00\",\"2024-03-02T00:00:00\",\"2024-03-03T00:00:00\",\"2024-03-04T00:00:00\",\"2024-03-05T00:00:00\",\"2024-03-06T00:00:00\",\"2024-03-07T00:00:00\",\"2024-03-08T00:00:00\",\"2024-03-09T00:00:00\",\"2024-03-10T00:00:00\",\"2024-03-11T00:00:00\",\"2024-03-12T00:00:00\",\"2024-03-13T00:00:00\",\"2024-03-14T00:00:00\",\"2024-03-15T00:00:00\",\"2024-03-16T00:00:00\",\"2024-03-17T00:00:00\",\"2024-03-18T00:00:00\",\"2024-03-19T00:00:00\",\"2024-03-20T00:00:00\",\"2024-03-21T00:00:00\",\"2024-03-22T00:00:00\",\"2024-03-23T00:00:00\",\"2024-03-24T00:00:00\",\"2024-03-25T00:00:00\",\"2024-03-26T00:00:00\",\"2024-03-27T00:00:00\",\"2024-03-28T00:00:00\",\"2024-03-29T00:00:00\",\"2024-03-30T00:00:00\",\"2024-03-31T00:00:00\",\"2024-04-01T00:00:00\",\"2024-04-02T00:00:00\",\"2024-04-03T00:00:00\",\"2024-04-04T00:00:00\",\"2024-04-05T00:00:00\",\"2024-04-06T00:00:00\",\"2024-04-07T00:00:00\",\"2024-04-08T00:00:00\",\"2024-04-09T00:00:00\",\"2024-04-10T00:00:00\",\"2024-04-11T00:00:00\",\"2024-04-12T00:00:00\",\"2024-04-13T00:00:00\",\"2024-04-14T00:00:00\",\"2024-04-15T00:00:00\",\"2024-04-16T00:00:00\",\"2024-04-17T00:00:00\",\"2024-04-18T00:00:00\",\"2024-04-19T00:00:00\",\"2024-04-20T00:00:00\",\"2024-04-21T00:00:00\",\"2024-04-22T00:00:00\",\"2024-04-23T00:00:00\",\"2024-05-01T00:00:00\",\"2024-05-02T00:00:00\",\"2024-05-03T00:00:00\",\"2024-05-04T00:00:00\",\"2024-05-05T00:00:00\",\"2024-05-06T00:00:00\",\"2024-05-07T00:00:00\",\"2024-05-08T00:00:00\",\"2024-05-10T00:00:00\",\"2024-05-11T00:00:00\",\"2024-05-12T00:00:00\",\"2024-05-13T00:00:00\",\"2024-05-14T00:00:00\",\"2024-05-15T00:00:00\",\"2024-05-16T00:00:00\",\"2024-05-17T00:00:00\",\"2024-05-18T00:00:00\",\"2024-05-19T00:00:00\",\"2024-05-20T00:00:00\",\"2024-05-21T00:00:00\",\"2024-05-22T00:00:00\",\"2024-05-23T00:00:00\",\"2024-05-24T00:00:00\",\"2024-05-25T00:00:00\",\"2024-05-26T00:00:00\",\"2024-05-27T00:00:00\",\"2024-05-28T00:00:00\",\"2024-05-29T00:00:00\",\"2024-05-31T00:00:00\",\"2024-06-01T00:00:00\",\"2024-06-02T00:00:00\",\"2024-06-03T00:00:00\",\"2024-06-04T00:00:00\",\"2024-06-05T00:00:00\",\"2024-06-06T00:00:00\",\"2024-06-07T00:00:00\",\"2024-06-08T00:00:00\",\"2024-06-09T00:00:00\",\"2024-06-11T00:00:00\",\"2024-06-12T00:00:00\",\"2024-06-13T00:00:00\",\"2024-06-14T00:00:00\",\"2024-06-15T00:00:00\",\"2024-06-16T00:00:00\",\"2024-06-17T00:00:00\",\"2024-06-18T00:00:00\",\"2024-06-19T00:00:00\",\"2024-06-20T00:00:00\",\"2024-06-21T00:00:00\",\"2024-06-22T00:00:00\",\"2024-06-23T00:00:00\",\"2024-06-24T00:00:00\",\"2024-06-25T00:00:00\",\"2024-06-26T00:00:00\",\"2024-06-27T00:00:00\",\"2024-06-29T00:00:00\",\"2024-06-30T00:00:00\",\"2024-07-01T00:00:00\",\"2024-07-02T00:00:00\",\"2024-07-03T00:00:00\",\"2024-07-04T00:00:00\",\"2024-07-05T00:00:00\",\"2024-07-06T00:00:00\",\"2024-07-07T00:00:00\",\"2024-07-08T00:00:00\",\"2024-07-09T00:00:00\",\"2024-07-10T00:00:00\",\"2024-07-11T00:00:00\",\"2024-07-12T00:00:00\",\"2024-07-13T00:00:00\",\"2024-07-14T00:00:00\",\"2024-07-15T00:00:00\",\"2024-07-16T00:00:00\",\"2024-07-17T00:00:00\",\"2024-07-18T00:00:00\",\"2024-07-19T00:00:00\",\"2024-07-20T00:00:00\",\"2024-07-21T00:00:00\",\"2024-07-22T00:00:00\",\"2024-07-23T00:00:00\",\"2024-07-24T00:00:00\",\"2024-07-25T00:00:00\",\"2024-07-29T00:00:00\",\"2024-07-30T00:00:00\",\"2024-08-01T00:00:00\",\"2024-08-02T00:00:00\",\"2024-08-03T00:00:00\",\"2024-08-04T00:00:00\",\"2024-08-05T00:00:00\",\"2024-08-06T00:00:00\",\"2024-08-07T00:00:00\",\"2024-08-08T00:00:00\",\"2024-08-09T00:00:00\",\"2024-08-10T00:00:00\",\"2024-08-11T00:00:00\",\"2024-08-12T00:00:00\",\"2024-08-13T00:00:00\",\"2024-08-14T00:00:00\",\"2024-08-15T00:00:00\",\"2024-08-16T00:00:00\",\"2024-08-17T00:00:00\",\"2024-08-18T00:00:00\",\"2024-08-19T00:00:00\",\"2024-08-20T00:00:00\",\"2024-08-22T00:00:00\",\"2024-08-23T00:00:00\",\"2024-08-24T00:00:00\",\"2024-08-25T00:00:00\",\"2024-08-26T00:00:00\",\"2024-08-29T00:00:00\",\"2024-08-30T00:00:00\",\"2024-08-31T00:00:00\",\"2024-09-01T00:00:00\",\"2024-09-02T00:00:00\",\"2024-09-03T00:00:00\",\"2024-09-04T00:00:00\",\"2024-09-05T00:00:00\",\"2024-09-08T00:00:00\",\"2024-09-09T00:00:00\",\"2024-09-10T00:00:00\",\"2024-09-11T00:00:00\",\"2024-09-12T00:00:00\",\"2024-09-13T00:00:00\",\"2024-09-14T00:00:00\",\"2024-09-15T00:00:00\",\"2024-09-16T00:00:00\",\"2024-09-17T00:00:00\",\"2024-09-18T00:00:00\",\"2024-09-19T00:00:00\",\"2024-09-20T00:00:00\",\"2024-09-21T00:00:00\",\"2024-09-22T00:00:00\",\"2024-09-23T00:00:00\",\"2024-09-24T00:00:00\",\"2024-09-25T00:00:00\",\"2024-09-26T00:00:00\",\"2024-09-27T00:00:00\",\"2024-09-28T00:00:00\",\"2024-09-29T00:00:00\",\"2024-09-30T00:00:00\",\"2024-10-01T00:00:00\",\"2024-10-02T00:00:00\",\"2024-10-03T00:00:00\",\"2024-10-04T00:00:00\",\"2024-10-05T00:00:00\",\"2024-10-06T00:00:00\",\"2024-10-07T00:00:00\",\"2024-10-08T00:00:00\",\"2024-10-09T00:00:00\",\"2024-10-10T00:00:00\",\"2024-10-11T00:00:00\",\"2024-10-12T00:00:00\",\"2024-10-13T00:00:00\",\"2024-10-14T00:00:00\",\"2024-10-15T00:00:00\",\"2024-10-16T00:00:00\",\"2024-10-17T00:00:00\",\"2024-10-18T00:00:00\",\"2024-10-19T00:00:00\",\"2024-10-20T00:00:00\",\"2024-10-21T00:00:00\",\"2024-10-22T00:00:00\",\"2024-10-23T00:00:00\",\"2024-10-24T00:00:00\",\"2024-10-25T00:00:00\",\"2024-10-26T00:00:00\",\"2024-10-27T00:00:00\",\"2024-10-28T00:00:00\",\"2024-10-29T00:00:00\",\"2024-10-30T00:00:00\",\"2024-10-31T00:00:00\",\"2024-11-01T00:00:00\",\"2024-11-02T00:00:00\",\"2024-11-03T00:00:00\",\"2024-11-04T00:00:00\",\"2024-11-05T00:00:00\",\"2024-11-06T00:00:00\",\"2024-11-07T00:00:00\",\"2024-11-08T00:00:00\",\"2024-11-09T00:00:00\",\"2024-11-10T00:00:00\",\"2024-11-11T00:00:00\",\"2024-11-12T00:00:00\",\"2024-11-13T00:00:00\",\"2024-11-14T00:00:00\",\"2024-11-15T00:00:00\",\"2024-11-16T00:00:00\",\"2024-11-17T00:00:00\",\"2024-11-18T00:00:00\",\"2024-11-19T00:00:00\",\"2024-11-20T00:00:00\",\"2024-11-21T00:00:00\",\"2024-11-22T00:00:00\",\"2024-11-23T00:00:00\",\"2024-11-24T00:00:00\",\"2024-11-25T00:00:00\",\"2024-11-26T00:00:00\",\"2024-11-27T00:00:00\",\"2024-11-28T00:00:00\",\"2024-11-29T00:00:00\",\"2024-11-30T00:00:00\",\"2024-12-01T00:00:00\",\"2024-12-02T00:00:00\",\"2024-12-03T00:00:00\",\"2024-12-04T00:00:00\",\"2024-12-05T00:00:00\",\"2024-12-06T00:00:00\",\"2024-12-07T00:00:00\",\"2024-12-08T00:00:00\",\"2024-12-09T00:00:00\",\"2024-12-10T00:00:00\",\"2024-12-11T00:00:00\",\"2024-12-12T00:00:00\",\"2024-12-13T00:00:00\",\"2024-12-14T00:00:00\",\"2024-12-15T00:00:00\",\"2024-12-16T00:00:00\",\"2024-12-17T00:00:00\",\"2024-12-18T00:00:00\",\"2024-12-19T00:00:00\",\"2024-12-20T00:00:00\",\"2024-12-21T00:00:00\",\"2024-12-22T00:00:00\",\"2024-12-23T00:00:00\",\"2024-12-24T00:00:00\",\"2024-12-25T00:00:00\",\"2024-12-27T00:00:00\",\"2024-12-28T00:00:00\",\"2024-12-29T00:00:00\",\"2024-12-31T00:00:00\"],\"xaxis\":\"x\",\"y\":[210.0,157.0,1187.0,4756.0,175.0,60.0,14720.0,170.0,512.0,130.0,320.0,50.0,217.0,140.0,330.0,200.0,625.0,120.0,140.0,495.0,255.0,230.0,507.0,260.0,882.0,200.0,120.0,1817.0,2340.0,360.0,227.0,480.0,4234.0,1448.0,1825.0,20.0,510.0,220.0,5772.0,257.0,250.0,230.0,465.0,190.0,0.0,100.0,3707.0,3089.0,180.0,560.0,250.0,2100.0,550.0,715.0,9257.0,440.0,420.0,50.0,4539.0,917.0,602.0,2794.0,3368.0,200.0,200.0,4782.0,685.0,758.0,5765.0,2038.0,7903.0,1149.0,2237.0,12021.0,80.0,2413.0,50.0,582.0,2163.0,100.0,60.0,410.0,990.0,1429.0,1477.0,5471.0,1600.0,4386.0,670.0,437.0,390.0,594.0,660.0,350.0,527.0,270.0,1384.0,3823.0,200.0,160.0,170.0,90.0,320.0,167.0,585.0,929.0,347.0,1317.0,205.0,957.0,1786.0,0.0,110.0,7148.0,1128.0,200.0,6313.0,2652.0,4371.0,460.0,899.0,50.0,20.0,100.0,2537.0,6553.0,3006.0,12520.0,2808.0,26915.0,1352.0,200.0,20.0,170.0,2430.0,120.0,65.0,1488.0,5120.0,0.0,2918.0,14100.0,2020.0,4324.0,15034.0,25607.0,150.0,1184.0,100.0,1200.0,100.0,3063.0,577.0,1476.0,1203.0,17477.0,2666.0,450.0,1800.0,2051.0,407.0,2281.0,192.0,719.0,11617.0,3750.0,20.0,914.0,11690.0,20.0,9598.0,1810.0,13070.0,15900.0,4739.0,280.0,2880.0,25842.0,1882.0,1525.0,3714.0,5364.0,50.0,4500.0,3079.0,270.0,220.0,16105.0,11113.0,1040.0,240.0,397.0,614.0,207.0,1564.0,657.0,812.0,2200.0,355.0,115.0,100.0,50.0,40.0,50.0,4084.0,550.0,420.0,520.0,877.0,390.0,420.0,20.0,4.0,0.0,50.0,3400.0,1005.0,1754.0,100.0,2533.0,1228.0,20.0,100.0,50.0,5359.0,0.0,50.0,50.0,630.0,23650.0,372.0,487.0,100.0,410.0,90.0,350.0,100.0,19688.0,200.0,1762.0,695.0,675.0,460.0,702.0,377.0,200.0,718.0,149.0,20.0,110.0,180.0,1377.0,3345.0,880.0,4484.0,100.0,2955.0,140.0,1563.0,210.0,400.0,302.0,1535.0,545.0,1680.0,5595.0,200.0,473.0,248.0,3977.0,383.0,170.0,396.0,721.0,10295.0,340.0,10255.0,2112.0,319.0,9634.0,467.0,18661.0,854.0,8361.0,17649.0,768.0,1794.0,200.0,1210.0,1653.0,527.0,10975.0,250.0,500.0,3270.0,7673.0,14692.0,544.0,2624.0,1253.0,6035.0,2133.0,290.0,1077.0,0.0,2272.0,1220.0,3408.0,5634.0,1220.0,1877.0,732.0,69838.0,1110.0,2900.0,547.0,2714.0,884.0,850.0,22849.0,7371.0,6532.0,250.0,4092.0,687.0,10845.0,100.0,2440.0,2858.0,297.0,9367.0,507.0,5133.0,3480.0,300.0,1218.0,4000.0,1000.0,300.0,350.0,54050.0],\"yaxis\":\"y\",\"type\":\"scatter\",\"customdata\":[\"0.0%\",\"0.0%\",\"0.1%\",\"0.5%\",\"0.0%\",\"0.0%\",\"1.5%\",\"0.0%\",\"0.1%\",\"0.0%\",\"0.0%\",\"0.0%\",\"0.0%\",\"0.0%\",\"0.0%\",\"0.0%\",\"0.1%\",\"0.0%\",\"0.0%\",\"0.1%\",\"0.0%\",\"0.0%\",\"0.1%\",\"0.0%\",\"0.1%\",\"0.0%\",\"0.0%\",\"0.2%\",\"0.2%\",\"0.0%\",\"0.0%\",\"0.0%\",\"0.4%\",\"0.1%\",\"0.2%\",\"0.0%\",\"0.1%\",\"0.0%\",\"0.6%\",\"0.0%\",\"0.0%\",\"0.0%\",\"0.0%\",\"0.0%\",\"0.0%\",\"0.0%\",\"0.4%\",\"0.3%\",\"0.0%\",\"0.1%\",\"0.0%\",\"0.2%\",\"0.1%\",\"0.1%\",\"0.9%\",\"0.0%\",\"0.0%\",\"0.0%\",\"0.5%\",\"0.1%\",\"0.1%\",\"0.3%\",\"0.3%\",\"0.0%\",\"0.0%\",\"0.5%\",\"0.1%\",\"0.1%\",\"0.6%\",\"0.2%\",\"0.8%\",\"0.1%\",\"0.2%\",\"1.2%\",\"0.0%\",\"0.2%\",\"0.0%\",\"0.1%\",\"0.2%\",\"0.0%\",\"0.0%\",\"0.0%\",\"0.1%\",\"0.1%\",\"0.2%\",\"0.6%\",\"0.2%\",\"0.4%\",\"0.1%\",\"0.0%\",\"0.0%\",\"0.1%\",\"0.1%\",\"0.0%\",\"0.1%\",\"0.0%\",\"0.1%\",\"0.4%\",\"0.0%\",\"0.0%\",\"0.0%\",\"0.0%\",\"0.0%\",\"0.0%\",\"0.1%\",\"0.1%\",\"0.0%\",\"0.1%\",\"0.0%\",\"0.1%\",\"0.2%\",\"0.0%\",\"0.0%\",\"0.7%\",\"0.1%\",\"0.0%\",\"0.6%\",\"0.3%\",\"0.4%\",\"0.0%\",\"0.1%\",\"0.0%\",\"0.0%\",\"0.0%\",\"0.3%\",\"0.7%\",\"0.3%\",\"1.3%\",\"0.3%\",\"2.7%\",\"0.1%\",\"0.0%\",\"0.0%\",\"0.0%\",\"0.2%\",\"0.0%\",\"0.0%\",\"0.2%\",\"0.5%\",\"0.0%\",\"0.3%\",\"1.4%\",\"0.2%\",\"0.4%\",\"1.5%\",\"2.6%\",\"0.0%\",\"0.1%\",\"0.0%\",\"0.1%\",\"0.0%\",\"0.3%\",\"0.1%\",\"0.2%\",\"0.1%\",\"1.8%\",\"0.3%\",\"0.0%\",\"0.2%\",\"0.2%\",\"0.0%\",\"0.2%\",\"0.0%\",\"0.1%\",\"1.2%\",\"0.4%\",\"0.0%\",\"0.1%\",\"1.2%\",\"0.0%\",\"1.0%\",\"0.2%\",\"1.3%\",\"1.6%\",\"0.5%\",\"0.0%\",\"0.3%\",\"2.6%\",\"0.2%\",\"0.2%\",\"0.4%\",\"0.5%\",\"0.0%\",\"0.5%\",\"0.3%\",\"0.0%\",\"0.0%\",\"1.6%\",\"1.1%\",\"0.1%\",\"0.0%\",\"0.0%\",\"0.1%\",\"0.0%\",\"0.2%\",\"0.1%\",\"0.1%\",\"0.2%\",\"0.0%\",\"0.0%\",\"0.0%\",\"0.0%\",\"0.0%\",\"0.0%\",\"0.4%\",\"0.1%\",\"0.0%\",\"0.1%\",\"0.1%\",\"0.0%\",\"0.0%\",\"0.0%\",\"0.0%\",\"0.0%\",\"0.0%\",\"0.3%\",\"0.1%\",\"0.2%\",\"0.0%\",\"0.3%\",\"0.1%\",\"0.0%\",\"0.0%\",\"0.0%\",\"0.5%\",\"0.0%\",\"0.0%\",\"0.0%\",\"0.1%\",\"2.4%\",\"0.0%\",\"0.0%\",\"0.0%\",\"0.0%\",\"0.0%\",\"0.0%\",\"0.0%\",\"2.0%\",\"0.0%\",\"0.2%\",\"0.1%\",\"0.1%\",\"0.0%\",\"0.1%\",\"0.0%\",\"0.0%\",\"0.1%\",\"0.0%\",\"0.0%\",\"0.0%\",\"0.0%\",\"0.1%\",\"0.3%\",\"0.1%\",\"0.5%\",\"0.0%\",\"0.3%\",\"0.0%\",\"0.2%\",\"0.0%\",\"0.0%\",\"0.0%\",\"0.2%\",\"0.1%\",\"0.2%\",\"0.6%\",\"0.0%\",\"0.0%\",\"0.0%\",\"0.4%\",\"0.0%\",\"0.0%\",\"0.0%\",\"0.1%\",\"1.0%\",\"0.0%\",\"1.0%\",\"0.2%\",\"0.0%\",\"1.0%\",\"0.0%\",\"1.9%\",\"0.1%\",\"0.9%\",\"1.8%\",\"0.1%\",\"0.2%\",\"0.0%\",\"0.1%\",\"0.2%\",\"0.1%\",\"1.1%\",\"0.0%\",\"0.1%\",\"0.3%\",\"0.8%\",\"1.5%\",\"0.1%\",\"0.3%\",\"0.1%\",\"0.6%\",\"0.2%\",\"0.0%\",\"0.1%\",\"0.0%\",\"0.2%\",\"0.1%\",\"0.3%\",\"0.6%\",\"0.1%\",\"0.2%\",\"0.1%\",\"7.1%\",\"0.1%\",\"0.3%\",\"0.1%\",\"0.3%\",\"0.1%\",\"0.1%\",\"2.3%\",\"0.8%\",\"0.7%\",\"0.0%\",\"0.4%\",\"0.1%\",\"1.1%\",\"0.0%\",\"0.2%\",\"0.3%\",\"0.0%\",\"1.0%\",\"0.1%\",\"0.5%\",\"0.4%\",\"0.0%\",\"0.1%\",\"0.4%\",\"0.1%\",\"0.0%\",\"0.0%\",\"5.5%\"]}],                        {\"template\":{\"data\":{\"histogram2dcontour\":[{\"type\":\"histogram2dcontour\",\"colorbar\":{\"outlinewidth\":0,\"ticks\":\"\"},\"colorscale\":[[0.0,\"#0d0887\"],[0.1111111111111111,\"#46039f\"],[0.2222222222222222,\"#7201a8\"],[0.3333333333333333,\"#9c179e\"],[0.4444444444444444,\"#bd3786\"],[0.5555555555555556,\"#d8576b\"],[0.6666666666666666,\"#ed7953\"],[0.7777777777777778,\"#fb9f3a\"],[0.8888888888888888,\"#fdca26\"],[1.0,\"#f0f921\"]]}],\"choropleth\":[{\"type\":\"choropleth\",\"colorbar\":{\"outlinewidth\":0,\"ticks\":\"\"}}],\"histogram2d\":[{\"type\":\"histogram2d\",\"colorbar\":{\"outlinewidth\":0,\"ticks\":\"\"},\"colorscale\":[[0.0,\"#0d0887\"],[0.1111111111111111,\"#46039f\"],[0.2222222222222222,\"#7201a8\"],[0.3333333333333333,\"#9c179e\"],[0.4444444444444444,\"#bd3786\"],[0.5555555555555556,\"#d8576b\"],[0.6666666666666666,\"#ed7953\"],[0.7777777777777778,\"#fb9f3a\"],[0.8888888888888888,\"#fdca26\"],[1.0,\"#f0f921\"]]}],\"heatmap\":[{\"type\":\"heatmap\",\"colorbar\":{\"outlinewidth\":0,\"ticks\":\"\"},\"colorscale\":[[0.0,\"#0d0887\"],[0.1111111111111111,\"#46039f\"],[0.2222222222222222,\"#7201a8\"],[0.3333333333333333,\"#9c179e\"],[0.4444444444444444,\"#bd3786\"],[0.5555555555555556,\"#d8576b\"],[0.6666666666666666,\"#ed7953\"],[0.7777777777777778,\"#fb9f3a\"],[0.8888888888888888,\"#fdca26\"],[1.0,\"#f0f921\"]]}],\"heatmapgl\":[{\"type\":\"heatmapgl\",\"colorbar\":{\"outlinewidth\":0,\"ticks\":\"\"},\"colorscale\":[[0.0,\"#0d0887\"],[0.1111111111111111,\"#46039f\"],[0.2222222222222222,\"#7201a8\"],[0.3333333333333333,\"#9c179e\"],[0.4444444444444444,\"#bd3786\"],[0.5555555555555556,\"#d8576b\"],[0.6666666666666666,\"#ed7953\"],[0.7777777777777778,\"#fb9f3a\"],[0.8888888888888888,\"#fdca26\"],[1.0,\"#f0f921\"]]}],\"contourcarpet\":[{\"type\":\"contourcarpet\",\"colorbar\":{\"outlinewidth\":0,\"ticks\":\"\"}}],\"contour\":[{\"type\":\"contour\",\"colorbar\":{\"outlinewidth\":0,\"ticks\":\"\"},\"colorscale\":[[0.0,\"#0d0887\"],[0.1111111111111111,\"#46039f\"],[0.2222222222222222,\"#7201a8\"],[0.3333333333333333,\"#9c179e\"],[0.4444444444444444,\"#bd3786\"],[0.5555555555555556,\"#d8576b\"],[0.6666666666666666,\"#ed7953\"],[0.7777777777777778,\"#fb9f3a\"],[0.8888888888888888,\"#fdca26\"],[1.0,\"#f0f921\"]]}],\"surface\":[{\"type\":\"surface\",\"colorbar\":{\"outlinewidth\":0,\"ticks\":\"\"},\"colorscale\":[[0.0,\"#0d0887\"],[0.1111111111111111,\"#46039f\"],[0.2222222222222222,\"#7201a8\"],[0.3333333333333333,\"#9c179e\"],[0.4444444444444444,\"#bd3786\"],[0.5555555555555556,\"#d8576b\"],[0.6666666666666666,\"#ed7953\"],[0.7777777777777778,\"#fb9f3a\"],[0.8888888888888888,\"#fdca26\"],[1.0,\"#f0f921\"]]}],\"mesh3d\":[{\"type\":\"mesh3d\",\"colorbar\":{\"outlinewidth\":0,\"ticks\":\"\"}}],\"scatter\":[{\"fillpattern\":{\"fillmode\":\"overlay\",\"size\":10,\"solidity\":0.2},\"type\":\"scatter\"}],\"parcoords\":[{\"type\":\"parcoords\",\"line\":{\"colorbar\":{\"outlinewidth\":0,\"ticks\":\"\"}}}],\"scatterpolargl\":[{\"type\":\"scatterpolargl\",\"marker\":{\"colorbar\":{\"outlinewidth\":0,\"ticks\":\"\"}}}],\"bar\":[{\"error_x\":{\"color\":\"#2a3f5f\"},\"error_y\":{\"color\":\"#2a3f5f\"},\"marker\":{\"line\":{\"color\":\"#E5ECF6\",\"width\":0.5},\"pattern\":{\"fillmode\":\"overlay\",\"size\":10,\"solidity\":0.2}},\"type\":\"bar\"}],\"scattergeo\":[{\"type\":\"scattergeo\",\"marker\":{\"colorbar\":{\"outlinewidth\":0,\"ticks\":\"\"}}}],\"scatterpolar\":[{\"type\":\"scatterpolar\",\"marker\":{\"colorbar\":{\"outlinewidth\":0,\"ticks\":\"\"}}}],\"histogram\":[{\"marker\":{\"pattern\":{\"fillmode\":\"overlay\",\"size\":10,\"solidity\":0.2}},\"type\":\"histogram\"}],\"scattergl\":[{\"type\":\"scattergl\",\"marker\":{\"colorbar\":{\"outlinewidth\":0,\"ticks\":\"\"}}}],\"scatter3d\":[{\"type\":\"scatter3d\",\"line\":{\"colorbar\":{\"outlinewidth\":0,\"ticks\":\"\"}},\"marker\":{\"colorbar\":{\"outlinewidth\":0,\"ticks\":\"\"}}}],\"scattermapbox\":[{\"type\":\"scattermapbox\",\"marker\":{\"colorbar\":{\"outlinewidth\":0,\"ticks\":\"\"}}}],\"scatterternary\":[{\"type\":\"scatterternary\",\"marker\":{\"colorbar\":{\"outlinewidth\":0,\"ticks\":\"\"}}}],\"scattercarpet\":[{\"type\":\"scattercarpet\",\"marker\":{\"colorbar\":{\"outlinewidth\":0,\"ticks\":\"\"}}}],\"carpet\":[{\"aaxis\":{\"endlinecolor\":\"#2a3f5f\",\"gridcolor\":\"white\",\"linecolor\":\"white\",\"minorgridcolor\":\"white\",\"startlinecolor\":\"#2a3f5f\"},\"baxis\":{\"endlinecolor\":\"#2a3f5f\",\"gridcolor\":\"white\",\"linecolor\":\"white\",\"minorgridcolor\":\"white\",\"startlinecolor\":\"#2a3f5f\"},\"type\":\"carpet\"}],\"table\":[{\"cells\":{\"fill\":{\"color\":\"#EBF0F8\"},\"line\":{\"color\":\"white\"}},\"header\":{\"fill\":{\"color\":\"#C8D4E3\"},\"line\":{\"color\":\"white\"}},\"type\":\"table\"}],\"barpolar\":[{\"marker\":{\"line\":{\"color\":\"#E5ECF6\",\"width\":0.5},\"pattern\":{\"fillmode\":\"overlay\",\"size\":10,\"solidity\":0.2}},\"type\":\"barpolar\"}],\"pie\":[{\"automargin\":true,\"type\":\"pie\"}]},\"layout\":{\"autotypenumbers\":\"strict\",\"colorway\":[\"#636efa\",\"#EF553B\",\"#00cc96\",\"#ab63fa\",\"#FFA15A\",\"#19d3f3\",\"#FF6692\",\"#B6E880\",\"#FF97FF\",\"#FECB52\"],\"font\":{\"color\":\"#2a3f5f\"},\"hovermode\":\"closest\",\"hoverlabel\":{\"align\":\"left\"},\"paper_bgcolor\":\"white\",\"plot_bgcolor\":\"#E5ECF6\",\"polar\":{\"bgcolor\":\"#E5ECF6\",\"angularaxis\":{\"gridcolor\":\"white\",\"linecolor\":\"white\",\"ticks\":\"\"},\"radialaxis\":{\"gridcolor\":\"white\",\"linecolor\":\"white\",\"ticks\":\"\"}},\"ternary\":{\"bgcolor\":\"#E5ECF6\",\"aaxis\":{\"gridcolor\":\"white\",\"linecolor\":\"white\",\"ticks\":\"\"},\"baxis\":{\"gridcolor\":\"white\",\"linecolor\":\"white\",\"ticks\":\"\"},\"caxis\":{\"gridcolor\":\"white\",\"linecolor\":\"white\",\"ticks\":\"\"}},\"coloraxis\":{\"colorbar\":{\"outlinewidth\":0,\"ticks\":\"\"}},\"colorscale\":{\"sequential\":[[0.0,\"#0d0887\"],[0.1111111111111111,\"#46039f\"],[0.2222222222222222,\"#7201a8\"],[0.3333333333333333,\"#9c179e\"],[0.4444444444444444,\"#bd3786\"],[0.5555555555555556,\"#d8576b\"],[0.6666666666666666,\"#ed7953\"],[0.7777777777777778,\"#fb9f3a\"],[0.8888888888888888,\"#fdca26\"],[1.0,\"#f0f921\"]],\"sequentialminus\":[[0.0,\"#0d0887\"],[0.1111111111111111,\"#46039f\"],[0.2222222222222222,\"#7201a8\"],[0.3333333333333333,\"#9c179e\"],[0.4444444444444444,\"#bd3786\"],[0.5555555555555556,\"#d8576b\"],[0.6666666666666666,\"#ed7953\"],[0.7777777777777778,\"#fb9f3a\"],[0.8888888888888888,\"#fdca26\"],[1.0,\"#f0f921\"]],\"diverging\":[[0,\"#8e0152\"],[0.1,\"#c51b7d\"],[0.2,\"#de77ae\"],[0.3,\"#f1b6da\"],[0.4,\"#fde0ef\"],[0.5,\"#f7f7f7\"],[0.6,\"#e6f5d0\"],[0.7,\"#b8e186\"],[0.8,\"#7fbc41\"],[0.9,\"#4d9221\"],[1,\"#276419\"]]},\"xaxis\":{\"gridcolor\":\"white\",\"linecolor\":\"white\",\"ticks\":\"\",\"title\":{\"standoff\":15},\"zerolinecolor\":\"white\",\"automargin\":true,\"zerolinewidth\":2},\"yaxis\":{\"gridcolor\":\"white\",\"linecolor\":\"white\",\"ticks\":\"\",\"title\":{\"standoff\":15},\"zerolinecolor\":\"white\",\"automargin\":true,\"zerolinewidth\":2},\"scene\":{\"xaxis\":{\"backgroundcolor\":\"#E5ECF6\",\"gridcolor\":\"white\",\"linecolor\":\"white\",\"showbackground\":true,\"ticks\":\"\",\"zerolinecolor\":\"white\",\"gridwidth\":2},\"yaxis\":{\"backgroundcolor\":\"#E5ECF6\",\"gridcolor\":\"white\",\"linecolor\":\"white\",\"showbackground\":true,\"ticks\":\"\",\"zerolinecolor\":\"white\",\"gridwidth\":2},\"zaxis\":{\"backgroundcolor\":\"#E5ECF6\",\"gridcolor\":\"white\",\"linecolor\":\"white\",\"showbackground\":true,\"ticks\":\"\",\"zerolinecolor\":\"white\",\"gridwidth\":2}},\"shapedefaults\":{\"line\":{\"color\":\"#2a3f5f\"}},\"annotationdefaults\":{\"arrowcolor\":\"#2a3f5f\",\"arrowhead\":0,\"arrowwidth\":1},\"geo\":{\"bgcolor\":\"white\",\"landcolor\":\"#E5ECF6\",\"subunitcolor\":\"white\",\"showland\":true,\"showlakes\":true,\"lakecolor\":\"white\"},\"title\":{\"x\":0.05},\"mapbox\":{\"style\":\"light\"}}},\"xaxis\":{\"anchor\":\"y\",\"domain\":[0.0,1.0],\"title\":{\"text\":\"Date\"}},\"yaxis\":{\"anchor\":\"x\",\"domain\":[0.0,1.0],\"title\":{\"text\":\"Total Spent (KES)\"}},\"legend\":{\"tracegroupgap\":0},\"title\":{\"text\":\"Bar chart of my daily spending in 2024\"}},                        {\"responsive\": true}                    ).then(function(){\n",
              "                            \n",
              "var gd = document.getElementById('49b3b70f-59ad-4e5a-8276-20526e96c243');\n",
              "var x = new MutationObserver(function (mutations, observer) {{\n",
              "        var display = window.getComputedStyle(gd).display;\n",
              "        if (!display || display === 'none') {{\n",
              "            console.log([gd, 'removed!']);\n",
              "            Plotly.purge(gd);\n",
              "            observer.disconnect();\n",
              "        }}\n",
              "}});\n",
              "\n",
              "// Listen for the removal of the full notebook cells\n",
              "var notebookContainer = gd.closest('#notebook-container');\n",
              "if (notebookContainer) {{\n",
              "    x.observe(notebookContainer, {childList: true});\n",
              "}}\n",
              "\n",
              "// Listen for the clearing of the current output cell\n",
              "var outputEl = gd.closest('.output');\n",
              "if (outputEl) {{\n",
              "    x.observe(outputEl, {childList: true});\n",
              "}}\n",
              "\n",
              "                        })                };                            </script>        </div>\n",
              "</body>\n",
              "</html>"
            ]
          },
          "metadata": {}
        }
      ]
    },
    {
      "cell_type": "code",
      "source": [
        "# Now that we have seen my highest expenditure day and my expenditure graph for the year, lets now focus on how much I spent on transaction cost charges"
      ],
      "metadata": {
        "id": "nE67jm9SUFph"
      },
      "execution_count": 32,
      "outputs": []
    },
    {
      "cell_type": "code",
      "source": [
        "# 7. My montly total transaction costs charges for 2024 (Send Money, Pochi la Biashara, Till Numbers and Paybill Numbers services)\n",
        "\n",
        "# Extracting Year, Month, and Year-Month Name\n",
        "df['Year'] = df['Date'].dt.year\n",
        "df['Month'] = df['Date'].dt.month\n",
        "df['Month Name'] = df['Month'].apply(lambda x: calendar.month_name[x])\n",
        "df['Year-Month'] = df['Month Name'] + \" \" + df['Year'].astype(str)\n",
        "\n",
        "# Defining M-PESA transaction costs based on the tariffs on their website\n",
        "TARIFFS = {\n",
        "    \"Send Money\": [\n",
        "        (1, 49, 0), (50, 100, 0), (101, 500, 7), (501, 1000, 13),\n",
        "        (1001, 1500, 23), (1501, 2500, 33), (2501, 3500, 53),\n",
        "        (3501, 5000, 57), (5001, 7500, 78), (7501, 10000, 90),\n",
        "        (10001, 15000, 100), (15001, 20000, 105), (20001, 35000, 108),\n",
        "        (35001, 50000, 108), (50001, 250000, 108)\n",
        "    ],\n",
        "    \"Withdraw M-PESA Agent\": [\n",
        "        (50, 100, 11), (101, 500, 29), (501, 1000, 29),\n",
        "        (1001, 1500, 29), (1501, 2500, 29), (2501, 3500, 52),\n",
        "        (3501, 5000, 69), (5001, 7500, 87), (7501, 10000, 115),\n",
        "        (10001, 15000, 167), (15001, 20000, 185), (20001, 35000, 197),\n",
        "        (35001, 50000, 278), (50001, 250000, 309)\n",
        "    ],\n",
        "    \"ATM Withdrawal\": [\n",
        "        (200, 2500, 35), (2501, 5000, 69), (5001, 10000, 115), (10001, 35000, 203)\n",
        "    ]\n",
        "}\n",
        "\n",
        "# Function to determine transaction type\n",
        "def get_transaction_type(details):\n",
        "    if pd.isna(details):\n",
        "        return None\n",
        "    details = str(details)  # Ensure string format\n",
        "    if details.startswith(\"Customer Transfer\"):\n",
        "        return \"Send Money\"\n",
        "    elif details.startswith(\"Customer Payment to Small Business\"):\n",
        "        return \"Send Money\"\n",
        "    elif details.startswith(\"Withdrawal from M-PESA Agent\"):\n",
        "        return \"Withdraw M-PESA Agent\"\n",
        "    elif details.startswith(\"ATM Withdrawal\"):\n",
        "        return \"ATM Withdrawal\"\n",
        "    return None\n",
        "\n",
        "# Function to calculate transaction cost\n",
        "def calculate_transaction_cost(amount, transaction_type):\n",
        "    if pd.isna(amount) or transaction_type not in TARIFFS:\n",
        "        return 0\n",
        "    for min_val, max_val, charge in TARIFFS[transaction_type]:\n",
        "        if min_val <= amount <= max_val:\n",
        "            return charge\n",
        "    return 0\n",
        "\n",
        "# Applying transaction type and cost calculations\n",
        "df['Transaction Type'] = df['Details'].apply(get_transaction_type)\n",
        "df['Transaction Cost'] = df.apply(lambda row: calculate_transaction_cost(row['Withdrawn'], row['Transaction Type']), axis=1)\n",
        "\n",
        "# Generating Yearly Transaction Summary\n",
        "yearly_summary = df.groupby(\"Year\").agg(\n",
        "    Number_of_Transactions=(\"Transaction Cost\", \"count\"),\n",
        "    Transaction_Cost=(\"Transaction Cost\", \"sum\")\n",
        ").reset_index()\n",
        "\n",
        "# Formatting transaction cost\n",
        "yearly_summary[\"Transaction Cost (KES)\"] = yearly_summary[\"Transaction_Cost\"].apply(lambda x: f\"{x:,.2f}\")\n",
        "yearly_summary = yearly_summary.drop(columns=[\"Transaction_Cost\"])\n",
        "\n",
        "# Generating Monthly Transaction Summary\n",
        "monthly_summary = df.groupby(\"Year-Month\").agg(\n",
        "    Number_of_Transactions=(\"Transaction Cost\", \"count\"),\n",
        "    Transaction_Cost=(\"Transaction Cost\", \"sum\")\n",
        ").reset_index()\n",
        "\n",
        "# Formatting transaction cost\n",
        "monthly_summary[\"Transaction Cost (KES)\"] = monthly_summary[\"Transaction_Cost\"].apply(lambda x: f\"{x:,.2f}\")\n",
        "monthly_summary = monthly_summary.drop(columns=[\"Transaction_Cost\"])\n",
        "\n",
        "# Ensuring months are sorted in correct order\n",
        "monthly_summary['Month Number'] = monthly_summary['Year-Month'].apply(lambda x: list(calendar.month_name).index(x.split()[0]))\n",
        "monthly_summary = monthly_summary.sort_values(by=['Month Number']).drop(columns=['Month Number'])\n",
        "\n",
        "# Displaying the results\n",
        "print(\"📊 Monthly M-Pesa Transactions and Costs\")\n",
        "print(monthly_summary.to_string(index=False))\n",
        "\n",
        "print(\"\\n📊 Yearly M-Pesa Transaction Summary\")\n",
        "print(yearly_summary.to_string(index=False))"
      ],
      "metadata": {
        "colab": {
          "base_uri": "https://localhost:8080/"
        },
        "id": "NFoE_8nJ1Dj9",
        "outputId": "2b037115-f90a-4ea5-e725-adb270fe669a"
      },
      "execution_count": 33,
      "outputs": [
        {
          "output_type": "stream",
          "name": "stdout",
          "text": [
            "📊 Monthly M-Pesa Transactions and Costs\n",
            "    Year-Month  Number_of_Transactions Transaction Cost (KES)\n",
            "  January 2024                     121                  88.00\n",
            " February 2024                     121                 114.00\n",
            "    March 2024                     217                 491.00\n",
            "    April 2024                     107                 123.00\n",
            "      May 2024                     156                 290.00\n",
            "     June 2024                     215                 512.00\n",
            "     July 2024                     208                 292.00\n",
            "   August 2024                     115                  68.00\n",
            "September 2024                     130                  49.00\n",
            "  October 2024                     228                  73.00\n",
            " November 2024                     265                 358.00\n",
            " December 2024                     212                 378.00\n",
            "\n",
            "📊 Yearly M-Pesa Transaction Summary\n",
            " Year  Number_of_Transactions Transaction Cost (KES)\n",
            " 2024                    2095               2,836.00\n"
          ]
        }
      ]
    },
    {
      "cell_type": "code",
      "source": [
        "# From the above information we can get my average number of transactions and the average transaction costs in a day"
      ],
      "metadata": {
        "id": "CKiFAyypXrbX"
      },
      "execution_count": 34,
      "outputs": []
    },
    {
      "cell_type": "code",
      "source": [
        "# 7.1 My average number of transactions and the average transaction costs in a day\n",
        "\n",
        "# Grouping by 'Date' and counting the number of transactions for each day\n",
        "daily_transactions = df.groupby('Date')['Transaction Cost'].count().reset_index()\n",
        "\n",
        "# Calculating the average number of transactions per day\n",
        "average_transactions_per_day = daily_transactions['Transaction Cost'].mean()\n",
        "\n",
        "# Display the result\n",
        "print(f\"My average number of transactions per day in 2024 is: {average_transactions_per_day:.2f}\")\n",
        "\n",
        "# Grouping by 'Date' and summing the transaction costs for each day\n",
        "daily_transaction_costs = df.groupby('Date')['Transaction Cost'].sum().reset_index()\n",
        "\n",
        "# Calculating the average transaction cost per day\n",
        "average_transaction_cost_per_day = daily_transaction_costs['Transaction Cost'].mean()\n",
        "\n",
        "# Display the result\n",
        "print(f\"My average transaction cost per day in 2024 is: KSHS {average_transaction_cost_per_day:,.2f}\")"
      ],
      "metadata": {
        "colab": {
          "base_uri": "https://localhost:8080/"
        },
        "id": "vxuHA8b2YUTk",
        "outputId": "a3efac51-878e-4dbc-d9a0-b7630962cb27"
      },
      "execution_count": 35,
      "outputs": [
        {
          "output_type": "stream",
          "name": "stdout",
          "text": [
            "My average number of transactions per day in 2024 is: 6.14\n",
            "My average transaction cost per day in 2024 is: KSHS 8.32\n"
          ]
        }
      ]
    },
    {
      "cell_type": "code",
      "source": [
        "# Let me visualize the total monthly transaction costs\n",
        "# # Note that the graph is interactive and you can hover over the elements of the graph to get more insights"
      ],
      "metadata": {
        "id": "9DtbL393ZV2o"
      },
      "execution_count": 36,
      "outputs": []
    },
    {
      "cell_type": "code",
      "source": [
        "# 7.2 Bar chart for my total monthly transaction cost charges in 2024\n",
        "\n",
        "# Creating the bar chart using Plotly Express\n",
        "fig = px.bar(\n",
        "    monthly_summary,\n",
        "    x=\"Year-Month\",\n",
        "    y=\"Transaction Cost (KES)\",\n",
        "    title=\"Bar chart for my total monthly transaction cost charges in 2024\",\n",
        "    labels={\"Transaction Cost (KES)\": \"Transaction Cost (KES)\", \"Year-Month\": \"Month\"},\n",
        "    color=\"Year-Month\",\n",
        "    color_discrete_sequence=px.colors.sequential.Turbo,\n",
        "    text='Transaction Cost (KES)'\n",
        ")\n",
        "\n",
        "# Customizing the layout for better readability\n",
        "fig.update_layout(\n",
        "    xaxis_tickangle=-45,\n",
        "    title_font_size = 14,\n",
        "    title_font_color = \"blue\",\n",
        "    title_x=0.5,\n",
        "    yaxis_tickformat = ',.0f'\n",
        ")\n",
        "\n",
        "# Showing the bar chart\n",
        "fig.show()"
      ],
      "metadata": {
        "colab": {
          "base_uri": "https://localhost:8080/",
          "height": 542
        },
        "id": "zfS_sz5oXj7n",
        "outputId": "c3df002d-0bf5-4903-c7ab-f36b83999b94"
      },
      "execution_count": 37,
      "outputs": [
        {
          "output_type": "display_data",
          "data": {
            "text/html": [
              "<html>\n",
              "<head><meta charset=\"utf-8\" /></head>\n",
              "<body>\n",
              "    <div>            <script src=\"https://cdnjs.cloudflare.com/ajax/libs/mathjax/2.7.5/MathJax.js?config=TeX-AMS-MML_SVG\"></script><script type=\"text/javascript\">if (window.MathJax && window.MathJax.Hub && window.MathJax.Hub.Config) {window.MathJax.Hub.Config({SVG: {font: \"STIX-Web\"}});}</script>                <script type=\"text/javascript\">window.PlotlyConfig = {MathJaxConfig: 'local'};</script>\n",
              "        <script charset=\"utf-8\" src=\"https://cdn.plot.ly/plotly-2.35.2.min.js\"></script>                <div id=\"030f3639-e251-4a8b-b2cc-d64790220d65\" class=\"plotly-graph-div\" style=\"height:525px; width:100%;\"></div>            <script type=\"text/javascript\">                                    window.PLOTLYENV=window.PLOTLYENV || {};                                    if (document.getElementById(\"030f3639-e251-4a8b-b2cc-d64790220d65\")) {                    Plotly.newPlot(                        \"030f3639-e251-4a8b-b2cc-d64790220d65\",                        [{\"alignmentgroup\":\"True\",\"hovertemplate\":\"Month=%{x}\\u003cbr\\u003eTransaction Cost (KES)=%{text}\\u003cextra\\u003e\\u003c\\u002fextra\\u003e\",\"legendgroup\":\"January 2024\",\"marker\":{\"color\":\"#30123b\",\"pattern\":{\"shape\":\"\"}},\"name\":\"January 2024\",\"offsetgroup\":\"January 2024\",\"orientation\":\"v\",\"showlegend\":true,\"text\":[\"88.00\"],\"textposition\":\"auto\",\"x\":[\"January 2024\"],\"xaxis\":\"x\",\"y\":[\"88.00\"],\"yaxis\":\"y\",\"type\":\"bar\"},{\"alignmentgroup\":\"True\",\"hovertemplate\":\"Month=%{x}\\u003cbr\\u003eTransaction Cost (KES)=%{text}\\u003cextra\\u003e\\u003c\\u002fextra\\u003e\",\"legendgroup\":\"February 2024\",\"marker\":{\"color\":\"#4145ab\",\"pattern\":{\"shape\":\"\"}},\"name\":\"February 2024\",\"offsetgroup\":\"February 2024\",\"orientation\":\"v\",\"showlegend\":true,\"text\":[\"114.00\"],\"textposition\":\"auto\",\"x\":[\"February 2024\"],\"xaxis\":\"x\",\"y\":[\"114.00\"],\"yaxis\":\"y\",\"type\":\"bar\"},{\"alignmentgroup\":\"True\",\"hovertemplate\":\"Month=%{x}\\u003cbr\\u003eTransaction Cost (KES)=%{text}\\u003cextra\\u003e\\u003c\\u002fextra\\u003e\",\"legendgroup\":\"March 2024\",\"marker\":{\"color\":\"#4675ed\",\"pattern\":{\"shape\":\"\"}},\"name\":\"March 2024\",\"offsetgroup\":\"March 2024\",\"orientation\":\"v\",\"showlegend\":true,\"text\":[\"491.00\"],\"textposition\":\"auto\",\"x\":[\"March 2024\"],\"xaxis\":\"x\",\"y\":[\"491.00\"],\"yaxis\":\"y\",\"type\":\"bar\"},{\"alignmentgroup\":\"True\",\"hovertemplate\":\"Month=%{x}\\u003cbr\\u003eTransaction Cost (KES)=%{text}\\u003cextra\\u003e\\u003c\\u002fextra\\u003e\",\"legendgroup\":\"April 2024\",\"marker\":{\"color\":\"#39a2fc\",\"pattern\":{\"shape\":\"\"}},\"name\":\"April 2024\",\"offsetgroup\":\"April 2024\",\"orientation\":\"v\",\"showlegend\":true,\"text\":[\"123.00\"],\"textposition\":\"auto\",\"x\":[\"April 2024\"],\"xaxis\":\"x\",\"y\":[\"123.00\"],\"yaxis\":\"y\",\"type\":\"bar\"},{\"alignmentgroup\":\"True\",\"hovertemplate\":\"Month=%{x}\\u003cbr\\u003eTransaction Cost (KES)=%{text}\\u003cextra\\u003e\\u003c\\u002fextra\\u003e\",\"legendgroup\":\"May 2024\",\"marker\":{\"color\":\"#1bcfd4\",\"pattern\":{\"shape\":\"\"}},\"name\":\"May 2024\",\"offsetgroup\":\"May 2024\",\"orientation\":\"v\",\"showlegend\":true,\"text\":[\"290.00\"],\"textposition\":\"auto\",\"x\":[\"May 2024\"],\"xaxis\":\"x\",\"y\":[\"290.00\"],\"yaxis\":\"y\",\"type\":\"bar\"},{\"alignmentgroup\":\"True\",\"hovertemplate\":\"Month=%{x}\\u003cbr\\u003eTransaction Cost (KES)=%{text}\\u003cextra\\u003e\\u003c\\u002fextra\\u003e\",\"legendgroup\":\"June 2024\",\"marker\":{\"color\":\"#24eca6\",\"pattern\":{\"shape\":\"\"}},\"name\":\"June 2024\",\"offsetgroup\":\"June 2024\",\"orientation\":\"v\",\"showlegend\":true,\"text\":[\"512.00\"],\"textposition\":\"auto\",\"x\":[\"June 2024\"],\"xaxis\":\"x\",\"y\":[\"512.00\"],\"yaxis\":\"y\",\"type\":\"bar\"},{\"alignmentgroup\":\"True\",\"hovertemplate\":\"Month=%{x}\\u003cbr\\u003eTransaction Cost (KES)=%{text}\\u003cextra\\u003e\\u003c\\u002fextra\\u003e\",\"legendgroup\":\"July 2024\",\"marker\":{\"color\":\"#61fc6c\",\"pattern\":{\"shape\":\"\"}},\"name\":\"July 2024\",\"offsetgroup\":\"July 2024\",\"orientation\":\"v\",\"showlegend\":true,\"text\":[\"292.00\"],\"textposition\":\"auto\",\"x\":[\"July 2024\"],\"xaxis\":\"x\",\"y\":[\"292.00\"],\"yaxis\":\"y\",\"type\":\"bar\"},{\"alignmentgroup\":\"True\",\"hovertemplate\":\"Month=%{x}\\u003cbr\\u003eTransaction Cost (KES)=%{text}\\u003cextra\\u003e\\u003c\\u002fextra\\u003e\",\"legendgroup\":\"August 2024\",\"marker\":{\"color\":\"#a4fc3b\",\"pattern\":{\"shape\":\"\"}},\"name\":\"August 2024\",\"offsetgroup\":\"August 2024\",\"orientation\":\"v\",\"showlegend\":true,\"text\":[\"68.00\"],\"textposition\":\"auto\",\"x\":[\"August 2024\"],\"xaxis\":\"x\",\"y\":[\"68.00\"],\"yaxis\":\"y\",\"type\":\"bar\"},{\"alignmentgroup\":\"True\",\"hovertemplate\":\"Month=%{x}\\u003cbr\\u003eTransaction Cost (KES)=%{text}\\u003cextra\\u003e\\u003c\\u002fextra\\u003e\",\"legendgroup\":\"September 2024\",\"marker\":{\"color\":\"#d1e834\",\"pattern\":{\"shape\":\"\"}},\"name\":\"September 2024\",\"offsetgroup\":\"September 2024\",\"orientation\":\"v\",\"showlegend\":true,\"text\":[\"49.00\"],\"textposition\":\"auto\",\"x\":[\"September 2024\"],\"xaxis\":\"x\",\"y\":[\"49.00\"],\"yaxis\":\"y\",\"type\":\"bar\"},{\"alignmentgroup\":\"True\",\"hovertemplate\":\"Month=%{x}\\u003cbr\\u003eTransaction Cost (KES)=%{text}\\u003cextra\\u003e\\u003c\\u002fextra\\u003e\",\"legendgroup\":\"October 2024\",\"marker\":{\"color\":\"#f3c63a\",\"pattern\":{\"shape\":\"\"}},\"name\":\"October 2024\",\"offsetgroup\":\"October 2024\",\"orientation\":\"v\",\"showlegend\":true,\"text\":[\"73.00\"],\"textposition\":\"auto\",\"x\":[\"October 2024\"],\"xaxis\":\"x\",\"y\":[\"73.00\"],\"yaxis\":\"y\",\"type\":\"bar\"},{\"alignmentgroup\":\"True\",\"hovertemplate\":\"Month=%{x}\\u003cbr\\u003eTransaction Cost (KES)=%{text}\\u003cextra\\u003e\\u003c\\u002fextra\\u003e\",\"legendgroup\":\"November 2024\",\"marker\":{\"color\":\"#fe9b2d\",\"pattern\":{\"shape\":\"\"}},\"name\":\"November 2024\",\"offsetgroup\":\"November 2024\",\"orientation\":\"v\",\"showlegend\":true,\"text\":[\"358.00\"],\"textposition\":\"auto\",\"x\":[\"November 2024\"],\"xaxis\":\"x\",\"y\":[\"358.00\"],\"yaxis\":\"y\",\"type\":\"bar\"},{\"alignmentgroup\":\"True\",\"hovertemplate\":\"Month=%{x}\\u003cbr\\u003eTransaction Cost (KES)=%{text}\\u003cextra\\u003e\\u003c\\u002fextra\\u003e\",\"legendgroup\":\"December 2024\",\"marker\":{\"color\":\"#f36315\",\"pattern\":{\"shape\":\"\"}},\"name\":\"December 2024\",\"offsetgroup\":\"December 2024\",\"orientation\":\"v\",\"showlegend\":true,\"text\":[\"378.00\"],\"textposition\":\"auto\",\"x\":[\"December 2024\"],\"xaxis\":\"x\",\"y\":[\"378.00\"],\"yaxis\":\"y\",\"type\":\"bar\"}],                        {\"template\":{\"data\":{\"histogram2dcontour\":[{\"type\":\"histogram2dcontour\",\"colorbar\":{\"outlinewidth\":0,\"ticks\":\"\"},\"colorscale\":[[0.0,\"#0d0887\"],[0.1111111111111111,\"#46039f\"],[0.2222222222222222,\"#7201a8\"],[0.3333333333333333,\"#9c179e\"],[0.4444444444444444,\"#bd3786\"],[0.5555555555555556,\"#d8576b\"],[0.6666666666666666,\"#ed7953\"],[0.7777777777777778,\"#fb9f3a\"],[0.8888888888888888,\"#fdca26\"],[1.0,\"#f0f921\"]]}],\"choropleth\":[{\"type\":\"choropleth\",\"colorbar\":{\"outlinewidth\":0,\"ticks\":\"\"}}],\"histogram2d\":[{\"type\":\"histogram2d\",\"colorbar\":{\"outlinewidth\":0,\"ticks\":\"\"},\"colorscale\":[[0.0,\"#0d0887\"],[0.1111111111111111,\"#46039f\"],[0.2222222222222222,\"#7201a8\"],[0.3333333333333333,\"#9c179e\"],[0.4444444444444444,\"#bd3786\"],[0.5555555555555556,\"#d8576b\"],[0.6666666666666666,\"#ed7953\"],[0.7777777777777778,\"#fb9f3a\"],[0.8888888888888888,\"#fdca26\"],[1.0,\"#f0f921\"]]}],\"heatmap\":[{\"type\":\"heatmap\",\"colorbar\":{\"outlinewidth\":0,\"ticks\":\"\"},\"colorscale\":[[0.0,\"#0d0887\"],[0.1111111111111111,\"#46039f\"],[0.2222222222222222,\"#7201a8\"],[0.3333333333333333,\"#9c179e\"],[0.4444444444444444,\"#bd3786\"],[0.5555555555555556,\"#d8576b\"],[0.6666666666666666,\"#ed7953\"],[0.7777777777777778,\"#fb9f3a\"],[0.8888888888888888,\"#fdca26\"],[1.0,\"#f0f921\"]]}],\"heatmapgl\":[{\"type\":\"heatmapgl\",\"colorbar\":{\"outlinewidth\":0,\"ticks\":\"\"},\"colorscale\":[[0.0,\"#0d0887\"],[0.1111111111111111,\"#46039f\"],[0.2222222222222222,\"#7201a8\"],[0.3333333333333333,\"#9c179e\"],[0.4444444444444444,\"#bd3786\"],[0.5555555555555556,\"#d8576b\"],[0.6666666666666666,\"#ed7953\"],[0.7777777777777778,\"#fb9f3a\"],[0.8888888888888888,\"#fdca26\"],[1.0,\"#f0f921\"]]}],\"contourcarpet\":[{\"type\":\"contourcarpet\",\"colorbar\":{\"outlinewidth\":0,\"ticks\":\"\"}}],\"contour\":[{\"type\":\"contour\",\"colorbar\":{\"outlinewidth\":0,\"ticks\":\"\"},\"colorscale\":[[0.0,\"#0d0887\"],[0.1111111111111111,\"#46039f\"],[0.2222222222222222,\"#7201a8\"],[0.3333333333333333,\"#9c179e\"],[0.4444444444444444,\"#bd3786\"],[0.5555555555555556,\"#d8576b\"],[0.6666666666666666,\"#ed7953\"],[0.7777777777777778,\"#fb9f3a\"],[0.8888888888888888,\"#fdca26\"],[1.0,\"#f0f921\"]]}],\"surface\":[{\"type\":\"surface\",\"colorbar\":{\"outlinewidth\":0,\"ticks\":\"\"},\"colorscale\":[[0.0,\"#0d0887\"],[0.1111111111111111,\"#46039f\"],[0.2222222222222222,\"#7201a8\"],[0.3333333333333333,\"#9c179e\"],[0.4444444444444444,\"#bd3786\"],[0.5555555555555556,\"#d8576b\"],[0.6666666666666666,\"#ed7953\"],[0.7777777777777778,\"#fb9f3a\"],[0.8888888888888888,\"#fdca26\"],[1.0,\"#f0f921\"]]}],\"mesh3d\":[{\"type\":\"mesh3d\",\"colorbar\":{\"outlinewidth\":0,\"ticks\":\"\"}}],\"scatter\":[{\"fillpattern\":{\"fillmode\":\"overlay\",\"size\":10,\"solidity\":0.2},\"type\":\"scatter\"}],\"parcoords\":[{\"type\":\"parcoords\",\"line\":{\"colorbar\":{\"outlinewidth\":0,\"ticks\":\"\"}}}],\"scatterpolargl\":[{\"type\":\"scatterpolargl\",\"marker\":{\"colorbar\":{\"outlinewidth\":0,\"ticks\":\"\"}}}],\"bar\":[{\"error_x\":{\"color\":\"#2a3f5f\"},\"error_y\":{\"color\":\"#2a3f5f\"},\"marker\":{\"line\":{\"color\":\"#E5ECF6\",\"width\":0.5},\"pattern\":{\"fillmode\":\"overlay\",\"size\":10,\"solidity\":0.2}},\"type\":\"bar\"}],\"scattergeo\":[{\"type\":\"scattergeo\",\"marker\":{\"colorbar\":{\"outlinewidth\":0,\"ticks\":\"\"}}}],\"scatterpolar\":[{\"type\":\"scatterpolar\",\"marker\":{\"colorbar\":{\"outlinewidth\":0,\"ticks\":\"\"}}}],\"histogram\":[{\"marker\":{\"pattern\":{\"fillmode\":\"overlay\",\"size\":10,\"solidity\":0.2}},\"type\":\"histogram\"}],\"scattergl\":[{\"type\":\"scattergl\",\"marker\":{\"colorbar\":{\"outlinewidth\":0,\"ticks\":\"\"}}}],\"scatter3d\":[{\"type\":\"scatter3d\",\"line\":{\"colorbar\":{\"outlinewidth\":0,\"ticks\":\"\"}},\"marker\":{\"colorbar\":{\"outlinewidth\":0,\"ticks\":\"\"}}}],\"scattermapbox\":[{\"type\":\"scattermapbox\",\"marker\":{\"colorbar\":{\"outlinewidth\":0,\"ticks\":\"\"}}}],\"scatterternary\":[{\"type\":\"scatterternary\",\"marker\":{\"colorbar\":{\"outlinewidth\":0,\"ticks\":\"\"}}}],\"scattercarpet\":[{\"type\":\"scattercarpet\",\"marker\":{\"colorbar\":{\"outlinewidth\":0,\"ticks\":\"\"}}}],\"carpet\":[{\"aaxis\":{\"endlinecolor\":\"#2a3f5f\",\"gridcolor\":\"white\",\"linecolor\":\"white\",\"minorgridcolor\":\"white\",\"startlinecolor\":\"#2a3f5f\"},\"baxis\":{\"endlinecolor\":\"#2a3f5f\",\"gridcolor\":\"white\",\"linecolor\":\"white\",\"minorgridcolor\":\"white\",\"startlinecolor\":\"#2a3f5f\"},\"type\":\"carpet\"}],\"table\":[{\"cells\":{\"fill\":{\"color\":\"#EBF0F8\"},\"line\":{\"color\":\"white\"}},\"header\":{\"fill\":{\"color\":\"#C8D4E3\"},\"line\":{\"color\":\"white\"}},\"type\":\"table\"}],\"barpolar\":[{\"marker\":{\"line\":{\"color\":\"#E5ECF6\",\"width\":0.5},\"pattern\":{\"fillmode\":\"overlay\",\"size\":10,\"solidity\":0.2}},\"type\":\"barpolar\"}],\"pie\":[{\"automargin\":true,\"type\":\"pie\"}]},\"layout\":{\"autotypenumbers\":\"strict\",\"colorway\":[\"#636efa\",\"#EF553B\",\"#00cc96\",\"#ab63fa\",\"#FFA15A\",\"#19d3f3\",\"#FF6692\",\"#B6E880\",\"#FF97FF\",\"#FECB52\"],\"font\":{\"color\":\"#2a3f5f\"},\"hovermode\":\"closest\",\"hoverlabel\":{\"align\":\"left\"},\"paper_bgcolor\":\"white\",\"plot_bgcolor\":\"#E5ECF6\",\"polar\":{\"bgcolor\":\"#E5ECF6\",\"angularaxis\":{\"gridcolor\":\"white\",\"linecolor\":\"white\",\"ticks\":\"\"},\"radialaxis\":{\"gridcolor\":\"white\",\"linecolor\":\"white\",\"ticks\":\"\"}},\"ternary\":{\"bgcolor\":\"#E5ECF6\",\"aaxis\":{\"gridcolor\":\"white\",\"linecolor\":\"white\",\"ticks\":\"\"},\"baxis\":{\"gridcolor\":\"white\",\"linecolor\":\"white\",\"ticks\":\"\"},\"caxis\":{\"gridcolor\":\"white\",\"linecolor\":\"white\",\"ticks\":\"\"}},\"coloraxis\":{\"colorbar\":{\"outlinewidth\":0,\"ticks\":\"\"}},\"colorscale\":{\"sequential\":[[0.0,\"#0d0887\"],[0.1111111111111111,\"#46039f\"],[0.2222222222222222,\"#7201a8\"],[0.3333333333333333,\"#9c179e\"],[0.4444444444444444,\"#bd3786\"],[0.5555555555555556,\"#d8576b\"],[0.6666666666666666,\"#ed7953\"],[0.7777777777777778,\"#fb9f3a\"],[0.8888888888888888,\"#fdca26\"],[1.0,\"#f0f921\"]],\"sequentialminus\":[[0.0,\"#0d0887\"],[0.1111111111111111,\"#46039f\"],[0.2222222222222222,\"#7201a8\"],[0.3333333333333333,\"#9c179e\"],[0.4444444444444444,\"#bd3786\"],[0.5555555555555556,\"#d8576b\"],[0.6666666666666666,\"#ed7953\"],[0.7777777777777778,\"#fb9f3a\"],[0.8888888888888888,\"#fdca26\"],[1.0,\"#f0f921\"]],\"diverging\":[[0,\"#8e0152\"],[0.1,\"#c51b7d\"],[0.2,\"#de77ae\"],[0.3,\"#f1b6da\"],[0.4,\"#fde0ef\"],[0.5,\"#f7f7f7\"],[0.6,\"#e6f5d0\"],[0.7,\"#b8e186\"],[0.8,\"#7fbc41\"],[0.9,\"#4d9221\"],[1,\"#276419\"]]},\"xaxis\":{\"gridcolor\":\"white\",\"linecolor\":\"white\",\"ticks\":\"\",\"title\":{\"standoff\":15},\"zerolinecolor\":\"white\",\"automargin\":true,\"zerolinewidth\":2},\"yaxis\":{\"gridcolor\":\"white\",\"linecolor\":\"white\",\"ticks\":\"\",\"title\":{\"standoff\":15},\"zerolinecolor\":\"white\",\"automargin\":true,\"zerolinewidth\":2},\"scene\":{\"xaxis\":{\"backgroundcolor\":\"#E5ECF6\",\"gridcolor\":\"white\",\"linecolor\":\"white\",\"showbackground\":true,\"ticks\":\"\",\"zerolinecolor\":\"white\",\"gridwidth\":2},\"yaxis\":{\"backgroundcolor\":\"#E5ECF6\",\"gridcolor\":\"white\",\"linecolor\":\"white\",\"showbackground\":true,\"ticks\":\"\",\"zerolinecolor\":\"white\",\"gridwidth\":2},\"zaxis\":{\"backgroundcolor\":\"#E5ECF6\",\"gridcolor\":\"white\",\"linecolor\":\"white\",\"showbackground\":true,\"ticks\":\"\",\"zerolinecolor\":\"white\",\"gridwidth\":2}},\"shapedefaults\":{\"line\":{\"color\":\"#2a3f5f\"}},\"annotationdefaults\":{\"arrowcolor\":\"#2a3f5f\",\"arrowhead\":0,\"arrowwidth\":1},\"geo\":{\"bgcolor\":\"white\",\"landcolor\":\"#E5ECF6\",\"subunitcolor\":\"white\",\"showland\":true,\"showlakes\":true,\"lakecolor\":\"white\"},\"title\":{\"x\":0.05},\"mapbox\":{\"style\":\"light\"}}},\"xaxis\":{\"anchor\":\"y\",\"domain\":[0.0,1.0],\"title\":{\"text\":\"Month\"},\"categoryorder\":\"array\",\"categoryarray\":[\"January 2024\",\"February 2024\",\"March 2024\",\"April 2024\",\"May 2024\",\"June 2024\",\"July 2024\",\"August 2024\",\"September 2024\",\"October 2024\",\"November 2024\",\"December 2024\"],\"tickangle\":-45},\"yaxis\":{\"anchor\":\"x\",\"domain\":[0.0,1.0],\"title\":{\"text\":\"Transaction Cost (KES)\"},\"tickformat\":\",.0f\"},\"legend\":{\"title\":{\"text\":\"Month\"},\"tracegroupgap\":0},\"title\":{\"text\":\"Bar chart for my total monthly transaction cost charges in 2024\",\"font\":{\"size\":14,\"color\":\"blue\"},\"x\":0.5},\"barmode\":\"relative\"},                        {\"responsive\": true}                    ).then(function(){\n",
              "                            \n",
              "var gd = document.getElementById('030f3639-e251-4a8b-b2cc-d64790220d65');\n",
              "var x = new MutationObserver(function (mutations, observer) {{\n",
              "        var display = window.getComputedStyle(gd).display;\n",
              "        if (!display || display === 'none') {{\n",
              "            console.log([gd, 'removed!']);\n",
              "            Plotly.purge(gd);\n",
              "            observer.disconnect();\n",
              "        }}\n",
              "}});\n",
              "\n",
              "// Listen for the removal of the full notebook cells\n",
              "var notebookContainer = gd.closest('#notebook-container');\n",
              "if (notebookContainer) {{\n",
              "    x.observe(notebookContainer, {childList: true});\n",
              "}}\n",
              "\n",
              "// Listen for the clearing of the current output cell\n",
              "var outputEl = gd.closest('.output');\n",
              "if (outputEl) {{\n",
              "    x.observe(outputEl, {childList: true});\n",
              "}}\n",
              "\n",
              "                        })                };                            </script>        </div>\n",
              "</body>\n",
              "</html>"
            ]
          },
          "metadata": {}
        }
      ]
    },
    {
      "source": [
        "# 8. The largest amount of cash I received in 2024 including everything\n",
        "\n",
        "# Filtering transactions from 2024\n",
        "df_2024 = df[df['Date'].dt.year == 2024]\n",
        "\n",
        "# Removing NaN values in 'Received' column\n",
        "df_2024 = df_2024.dropna(subset=['Received'])\n",
        "\n",
        "# Finding the largest amount received and the sender\n",
        "max_received_row = df_2024.loc[df_2024['Received'].idxmax()]\n",
        "max_received_amount = max_received_row['Received']\n",
        "max_sender = max_received_row['Details']\n",
        "\n",
        "# Finding the lowest amount received and the sender\n",
        "min_received_row = df_2024.loc[df_2024['Received'].idxmin()]\n",
        "min_received_amount = min_received_row['Received']\n",
        "min_sender = min_received_row['Details']\n",
        "\n",
        "# Displaying the results\n",
        "print(\"📊 Received Amount Summary for 2024\")\n",
        "print(f\"💰 Largest Amount Received: KES {max_received_amount:,.2f} from {max_sender}\")\n",
        "print(f\"🪙 Lowest Amount Received: KES {min_received_amount:,.2f} from {min_sender}\")"
      ],
      "cell_type": "code",
      "metadata": {
        "colab": {
          "base_uri": "https://localhost:8080/"
        },
        "id": "PCXuqOSinysD",
        "outputId": "69b9e106-94fa-48fc-8bf8-a403e989ea6a"
      },
      "execution_count": 39,
      "outputs": [
        {
          "output_type": "stream",
          "name": "stdout",
          "text": [
            "📊 Received Amount Summary for 2024\n",
            "💰 Largest Amount Received: KES 24,000.00 from M-Shwari Withdraw\n",
            "🪙 Lowest Amount Received: KES 0.00 from M-Shwari Loan Request\n"
          ]
        }
      ]
    },
    {
      "cell_type": "code",
      "source": [
        "# Since I was constantly moving money to and from my account🤦‍♂️🤦‍♂️🤦‍♂️, we can safely ignore the M-Shwari transactions😂😂😂"
      ],
      "metadata": {
        "id": "eCLTdQtXZ7mI"
      },
      "execution_count": 40,
      "outputs": []
    },
    {
      "cell_type": "code",
      "source": [
        "# 8.1 The largest amount of money I received in 2024 excluding M-Shwari transactions\n",
        "\n",
        "# Filtering transactions from 2024, excluding M-Shwari transactions\n",
        "df_2024 = df[(df['Date'].dt.year == 2024) & (~df['Details'].str.contains(\"M-Shwari\", na=False))]\n",
        "\n",
        "# Removing NaN values in 'Received' column\n",
        "df_2024 = df_2024.dropna(subset=['Received'])\n",
        "\n",
        "# Finding the largest amount received and the sender\n",
        "max_received_row = df_2024.loc[df_2024['Received'].idxmax()]\n",
        "max_received_amount = max_received_row['Received']\n",
        "max_sender = max_received_row['Details']\n",
        "\n",
        "# Finding the lowest amount received and the sender\n",
        "min_received_row = df_2024.loc[df_2024['Received'].idxmin()]\n",
        "min_received_amount = min_received_row['Received']\n",
        "min_sender = min_received_row['Details']\n",
        "\n",
        "# Displaying the results\n",
        "print(\"📊 Received Amount Summary for 2024 (Excluding M-Shwari)\")\n",
        "print(f\"💰 Largest Amount Received: KES {max_received_amount:,.2f} from {max_sender}\")\n",
        "print(f\"🪙 Lowest Amount Received: KES {min_received_amount:,.2f} from {min_sender}\")\n"
      ],
      "metadata": {
        "colab": {
          "base_uri": "https://localhost:8080/"
        },
        "id": "Cd3vjbvH3kab",
        "outputId": "3cdfba28-60b1-4f4c-bf53-d5422e38bb7f"
      },
      "execution_count": 41,
      "outputs": [
        {
          "output_type": "stream",
          "name": "stdout",
          "text": [
            "📊 Received Amount Summary for 2024 (Excluding M-Shwari)\n",
            "💰 Largest Amount Received: KES 22,000.00 from Business Payment from 329299 - STANDARD CHARTERED BANK\n",
            "via API. Original conversation ID is 254746152008-KE-IBNK-\n",
            "4uyeyM.\n",
            "🪙 Lowest Amount Received: KES 5.00 from Funds received from - 07******478 esther wanjohi\n"
          ]
        }
      ]
    },
    {
      "cell_type": "code",
      "source": [
        "# The largest amount received was sent so that I pay for my school fees😂😂😂\n",
        "# The lowest amount ... I dont even know what to say😂😂😂\n",
        "# I guess someone wanted to know my name so they sent me 5 bobo so that M-Pesa displays my name😂😂😂"
      ],
      "metadata": {
        "id": "1a-ayK5mcUOZ"
      },
      "execution_count": 42,
      "outputs": []
    },
    {
      "cell_type": "code",
      "source": [
        "# 9. Where I spent most of my money on\n",
        "\n",
        "# Filtering transactions from 2024 with non-null Withdrawn values\n",
        "df_2024_spent = df[(df['Date'].dt.year == 2024) & df['Withdrawn'].notna()]\n",
        "\n",
        "# Grouping by 'Details' and sum up the 'Withdrawn' amounts\n",
        "spending_summary = df_2024_spent.groupby('Details')['Withdrawn'].sum().reset_index()\n",
        "\n",
        "# Finding the detail with the highest cumulative spend\n",
        "max_spent_row = spending_summary.loc[spending_summary['Withdrawn'].idxmax()]\n",
        "max_spent_detail = max_spent_row['Details']\n",
        "max_spent_amount = max_spent_row['Withdrawn']\n",
        "\n",
        "# Displaying results\n",
        "print(f\"💸 I spent the most of money in 2024 on: {max_spent_detail} (KSHS {max_spent_amount:,.2f})\")"
      ],
      "metadata": {
        "colab": {
          "base_uri": "https://localhost:8080/"
        },
        "id": "wg91KatL4Jm3",
        "outputId": "e946785f-1131-41cc-fe47-cb43f5ff7a0e"
      },
      "execution_count": 43,
      "outputs": [
        {
          "output_type": "stream",
          "name": "stdout",
          "text": [
            "💸 I spent the most of money in 2024 on: M-Shwari Deposit (KSHS 405,296.00)\n"
          ]
        }
      ]
    },
    {
      "cell_type": "code",
      "source": [
        "# I really wonder why i was moving money aroud my M-Shwari this much and this often 🤦‍♂️🤦‍♂️🤦‍♂️"
      ],
      "metadata": {
        "id": "lDsaKmNdc5Ss"
      },
      "execution_count": 44,
      "outputs": []
    },
    {
      "cell_type": "code",
      "source": [
        "# 9.1 Where I spent most of my money on excluding M-Shwari transactions\n",
        "# Filter transactions from 2024, excluding M-Shwari, with non-null Withdrawn values\n",
        "df_2024_spent = df[\n",
        "    (df['Date'].dt.year == 2024) &\n",
        "    df['Withdrawn'].notna() &\n",
        "    (~df['Details'].str.contains(\"M-Shwari\", na=False))\n",
        "]\n",
        "\n",
        "# Group by 'Details' and sum up the 'Withdrawn' amounts\n",
        "spending_summary = df_2024_spent.groupby('Details')['Withdrawn'].sum().reset_index()\n",
        "\n",
        "# Find the detail with the highest cumulative spend\n",
        "max_spent_row = spending_summary.loc[spending_summary['Withdrawn'].idxmax()]\n",
        "max_spent_detail = max_spent_row['Details']\n",
        "max_spent_amount = max_spent_row['Withdrawn']\n",
        "\n",
        "# Display results\n",
        "print(f\"💸 I spent the most on: {max_spent_detail} (KES {max_spent_amount:,.2f})\")"
      ],
      "metadata": {
        "colab": {
          "base_uri": "https://localhost:8080/"
        },
        "id": "PTHbnYiN4VAV",
        "outputId": "e4ef01a1-c80d-44da-8126-c208840b293c"
      },
      "execution_count": 47,
      "outputs": [
        {
          "output_type": "stream",
          "name": "stdout",
          "text": [
            "💸 I spent the most on: Pay Bill Online to 247247 - Equity Paybill Account Acc. 0880183523934 (KES 48,900.00)\n"
          ]
        }
      ]
    },
    {
      "cell_type": "code",
      "source": [
        "# This is my school's (Jomo Kenyatta Univeristy of Agriculture and Technology) school fees payment account 😂😂😂\n",
        "# So it goes without saying that I paid school fees twice to this account in 2024 and that is why its popping up here😂😂😂\n",
        "\n",
        "# I know you are tired of me at this point😂😂😂\n",
        "# So let's wrap it up with an analysis of how many times I bought Mutura (African Sausage for those of you who aren't kenyan) in 2024 and for how much😂😂😂"
      ],
      "metadata": {
        "id": "B2R6GUXYdE26"
      },
      "execution_count": 46,
      "outputs": []
    },
    {
      "cell_type": "code",
      "source": [
        "# Escape the special characters in the search string\n",
        "search_string = \"Customer Payment to Small Business to - 2547******543 GIDRAPH GACIBU\"\n",
        "\n",
        "# Filter transactions for GIDRAPH GACIBU in 2024\n",
        "df_gidraph = df[\n",
        "    (df['Date'].dt.year == 2024) &\n",
        "    (df['Details'].str.contains(search_string, na=False, regex=False)) &\n",
        "    df['Withdrawn'].notna()\n",
        "]\n",
        "\n",
        "# Count the number of transactions\n",
        "num_transactions = len(df_gidraph)\n",
        "\n",
        "# Group data by month, summing the withdrawn amount and counting the transactions\n",
        "monthly_gidraph = df_gidraph.groupby(df_gidraph['Date'].dt.month).agg(\n",
        "    Withdrawn=('Withdrawn', 'sum'),\n",
        "    Transactions=('Withdrawn', 'count')\n",
        ").reset_index()\n",
        "\n",
        "# Add month names\n",
        "monthly_gidraph['Month Name'] = monthly_gidraph['Date'].apply(lambda x: calendar.month_name[x])\n",
        "\n",
        "# Total amount spent in the year\n",
        "total_amount_2024 = df_gidraph['Withdrawn'].sum()\n",
        "\n",
        "# Display results\n",
        "print(\"📊 My Mutura Purchases in 2024\")\n",
        "print(f\"💸 I bought mutura from my plug {num_transactions} times in 2024.\")\n",
        "\n",
        "print(\"\\n📅 Monthly Breakdown:\")\n",
        "print(monthly_gidraph[['Month Name', 'Transactions', 'Withdrawn']].to_string(index=False))\n",
        "\n",
        "print(f\"\\n🔹 This means I spent a total of KES {total_amount_2024:,.2f} on mutura in 2024 😂😂😂\")"
      ],
      "metadata": {
        "colab": {
          "base_uri": "https://localhost:8080/"
        },
        "id": "HDcd0q6ceA4F",
        "outputId": "31f04981-57cb-4470-c403-baee115a6b15"
      },
      "execution_count": 48,
      "outputs": [
        {
          "output_type": "stream",
          "name": "stdout",
          "text": [
            "📊 My Mutura Purchases in 2024\n",
            "💸 I bought mutura from my plug 62 times in 2024.\n",
            "\n",
            "📅 Monthly Breakdown:\n",
            "Month Name  Transactions  Withdrawn\n",
            "   January             7      350.0\n",
            "  February             8      400.0\n",
            "     March            11      550.0\n",
            "     April             4      200.0\n",
            "      June             2      100.0\n",
            " September             5      250.0\n",
            "   October            11      620.0\n",
            "  November             8      550.0\n",
            "  December             6      350.0\n",
            "\n",
            "🔹 This means I spent a total of KES 3,370.00 on mutura in 2024 😂😂😂\n"
          ]
        }
      ]
    },
    {
      "source": [
        "# Creating the bar chart for transactions and withdrawn amounts\n",
        "fig = px.bar(\n",
        "    monthly_gidraph,\n",
        "    x=\"Month Name\",\n",
        "    y=[\"Transactions\", \"Withdrawn\"],\n",
        "    title=\"Monthly Breakdown of my Mutura Purchases in 2024\",\n",
        "    labels={\"Transactions\": \"Number of Transactions\", \"Withdrawn\": \"Amount Withdrawn (KES)\"},\n",
        "    barmode=\"group\"  # To display the bars next to each other for comparison\n",
        ")\n",
        "\n",
        "# Customizing the layout for better readability\n",
        "fig.update_layout(\n",
        "    xaxis_tickangle=-45,\n",
        "    title_font_size=16,\n",
        "    title_font_color=\"blue\",\n",
        "    title_x=0.5,\n",
        "    yaxis_tickformat=\",.0f\"  # Formatting y-axis for currency\n",
        ")\n",
        "\n",
        "# Showing the bar chart\n",
        "fig.show()"
      ],
      "cell_type": "code",
      "metadata": {
        "colab": {
          "base_uri": "https://localhost:8080/",
          "height": 542
        },
        "id": "0k1Chb1ke2CR",
        "outputId": "0bc635b4-4ec4-49cb-fbfd-7605e80b82b2"
      },
      "execution_count": 49,
      "outputs": [
        {
          "output_type": "display_data",
          "data": {
            "text/html": [
              "<html>\n",
              "<head><meta charset=\"utf-8\" /></head>\n",
              "<body>\n",
              "    <div>            <script src=\"https://cdnjs.cloudflare.com/ajax/libs/mathjax/2.7.5/MathJax.js?config=TeX-AMS-MML_SVG\"></script><script type=\"text/javascript\">if (window.MathJax && window.MathJax.Hub && window.MathJax.Hub.Config) {window.MathJax.Hub.Config({SVG: {font: \"STIX-Web\"}});}</script>                <script type=\"text/javascript\">window.PlotlyConfig = {MathJaxConfig: 'local'};</script>\n",
              "        <script charset=\"utf-8\" src=\"https://cdn.plot.ly/plotly-2.35.2.min.js\"></script>                <div id=\"2ecd76ad-559c-4d36-af4d-b44214274214\" class=\"plotly-graph-div\" style=\"height:525px; width:100%;\"></div>            <script type=\"text/javascript\">                                    window.PLOTLYENV=window.PLOTLYENV || {};                                    if (document.getElementById(\"2ecd76ad-559c-4d36-af4d-b44214274214\")) {                    Plotly.newPlot(                        \"2ecd76ad-559c-4d36-af4d-b44214274214\",                        [{\"alignmentgroup\":\"True\",\"hovertemplate\":\"variable=Transactions\\u003cbr\\u003eMonth Name=%{x}\\u003cbr\\u003evalue=%{y}\\u003cextra\\u003e\\u003c\\u002fextra\\u003e\",\"legendgroup\":\"Transactions\",\"marker\":{\"color\":\"#636efa\",\"pattern\":{\"shape\":\"\"}},\"name\":\"Transactions\",\"offsetgroup\":\"Transactions\",\"orientation\":\"v\",\"showlegend\":true,\"textposition\":\"auto\",\"x\":[\"January\",\"February\",\"March\",\"April\",\"June\",\"September\",\"October\",\"November\",\"December\"],\"xaxis\":\"x\",\"y\":[7.0,8.0,11.0,4.0,2.0,5.0,11.0,8.0,6.0],\"yaxis\":\"y\",\"type\":\"bar\"},{\"alignmentgroup\":\"True\",\"hovertemplate\":\"variable=Withdrawn\\u003cbr\\u003eMonth Name=%{x}\\u003cbr\\u003evalue=%{y}\\u003cextra\\u003e\\u003c\\u002fextra\\u003e\",\"legendgroup\":\"Withdrawn\",\"marker\":{\"color\":\"#EF553B\",\"pattern\":{\"shape\":\"\"}},\"name\":\"Withdrawn\",\"offsetgroup\":\"Withdrawn\",\"orientation\":\"v\",\"showlegend\":true,\"textposition\":\"auto\",\"x\":[\"January\",\"February\",\"March\",\"April\",\"June\",\"September\",\"October\",\"November\",\"December\"],\"xaxis\":\"x\",\"y\":[350.0,400.0,550.0,200.0,100.0,250.0,620.0,550.0,350.0],\"yaxis\":\"y\",\"type\":\"bar\"}],                        {\"template\":{\"data\":{\"histogram2dcontour\":[{\"type\":\"histogram2dcontour\",\"colorbar\":{\"outlinewidth\":0,\"ticks\":\"\"},\"colorscale\":[[0.0,\"#0d0887\"],[0.1111111111111111,\"#46039f\"],[0.2222222222222222,\"#7201a8\"],[0.3333333333333333,\"#9c179e\"],[0.4444444444444444,\"#bd3786\"],[0.5555555555555556,\"#d8576b\"],[0.6666666666666666,\"#ed7953\"],[0.7777777777777778,\"#fb9f3a\"],[0.8888888888888888,\"#fdca26\"],[1.0,\"#f0f921\"]]}],\"choropleth\":[{\"type\":\"choropleth\",\"colorbar\":{\"outlinewidth\":0,\"ticks\":\"\"}}],\"histogram2d\":[{\"type\":\"histogram2d\",\"colorbar\":{\"outlinewidth\":0,\"ticks\":\"\"},\"colorscale\":[[0.0,\"#0d0887\"],[0.1111111111111111,\"#46039f\"],[0.2222222222222222,\"#7201a8\"],[0.3333333333333333,\"#9c179e\"],[0.4444444444444444,\"#bd3786\"],[0.5555555555555556,\"#d8576b\"],[0.6666666666666666,\"#ed7953\"],[0.7777777777777778,\"#fb9f3a\"],[0.8888888888888888,\"#fdca26\"],[1.0,\"#f0f921\"]]}],\"heatmap\":[{\"type\":\"heatmap\",\"colorbar\":{\"outlinewidth\":0,\"ticks\":\"\"},\"colorscale\":[[0.0,\"#0d0887\"],[0.1111111111111111,\"#46039f\"],[0.2222222222222222,\"#7201a8\"],[0.3333333333333333,\"#9c179e\"],[0.4444444444444444,\"#bd3786\"],[0.5555555555555556,\"#d8576b\"],[0.6666666666666666,\"#ed7953\"],[0.7777777777777778,\"#fb9f3a\"],[0.8888888888888888,\"#fdca26\"],[1.0,\"#f0f921\"]]}],\"heatmapgl\":[{\"type\":\"heatmapgl\",\"colorbar\":{\"outlinewidth\":0,\"ticks\":\"\"},\"colorscale\":[[0.0,\"#0d0887\"],[0.1111111111111111,\"#46039f\"],[0.2222222222222222,\"#7201a8\"],[0.3333333333333333,\"#9c179e\"],[0.4444444444444444,\"#bd3786\"],[0.5555555555555556,\"#d8576b\"],[0.6666666666666666,\"#ed7953\"],[0.7777777777777778,\"#fb9f3a\"],[0.8888888888888888,\"#fdca26\"],[1.0,\"#f0f921\"]]}],\"contourcarpet\":[{\"type\":\"contourcarpet\",\"colorbar\":{\"outlinewidth\":0,\"ticks\":\"\"}}],\"contour\":[{\"type\":\"contour\",\"colorbar\":{\"outlinewidth\":0,\"ticks\":\"\"},\"colorscale\":[[0.0,\"#0d0887\"],[0.1111111111111111,\"#46039f\"],[0.2222222222222222,\"#7201a8\"],[0.3333333333333333,\"#9c179e\"],[0.4444444444444444,\"#bd3786\"],[0.5555555555555556,\"#d8576b\"],[0.6666666666666666,\"#ed7953\"],[0.7777777777777778,\"#fb9f3a\"],[0.8888888888888888,\"#fdca26\"],[1.0,\"#f0f921\"]]}],\"surface\":[{\"type\":\"surface\",\"colorbar\":{\"outlinewidth\":0,\"ticks\":\"\"},\"colorscale\":[[0.0,\"#0d0887\"],[0.1111111111111111,\"#46039f\"],[0.2222222222222222,\"#7201a8\"],[0.3333333333333333,\"#9c179e\"],[0.4444444444444444,\"#bd3786\"],[0.5555555555555556,\"#d8576b\"],[0.6666666666666666,\"#ed7953\"],[0.7777777777777778,\"#fb9f3a\"],[0.8888888888888888,\"#fdca26\"],[1.0,\"#f0f921\"]]}],\"mesh3d\":[{\"type\":\"mesh3d\",\"colorbar\":{\"outlinewidth\":0,\"ticks\":\"\"}}],\"scatter\":[{\"fillpattern\":{\"fillmode\":\"overlay\",\"size\":10,\"solidity\":0.2},\"type\":\"scatter\"}],\"parcoords\":[{\"type\":\"parcoords\",\"line\":{\"colorbar\":{\"outlinewidth\":0,\"ticks\":\"\"}}}],\"scatterpolargl\":[{\"type\":\"scatterpolargl\",\"marker\":{\"colorbar\":{\"outlinewidth\":0,\"ticks\":\"\"}}}],\"bar\":[{\"error_x\":{\"color\":\"#2a3f5f\"},\"error_y\":{\"color\":\"#2a3f5f\"},\"marker\":{\"line\":{\"color\":\"#E5ECF6\",\"width\":0.5},\"pattern\":{\"fillmode\":\"overlay\",\"size\":10,\"solidity\":0.2}},\"type\":\"bar\"}],\"scattergeo\":[{\"type\":\"scattergeo\",\"marker\":{\"colorbar\":{\"outlinewidth\":0,\"ticks\":\"\"}}}],\"scatterpolar\":[{\"type\":\"scatterpolar\",\"marker\":{\"colorbar\":{\"outlinewidth\":0,\"ticks\":\"\"}}}],\"histogram\":[{\"marker\":{\"pattern\":{\"fillmode\":\"overlay\",\"size\":10,\"solidity\":0.2}},\"type\":\"histogram\"}],\"scattergl\":[{\"type\":\"scattergl\",\"marker\":{\"colorbar\":{\"outlinewidth\":0,\"ticks\":\"\"}}}],\"scatter3d\":[{\"type\":\"scatter3d\",\"line\":{\"colorbar\":{\"outlinewidth\":0,\"ticks\":\"\"}},\"marker\":{\"colorbar\":{\"outlinewidth\":0,\"ticks\":\"\"}}}],\"scattermapbox\":[{\"type\":\"scattermapbox\",\"marker\":{\"colorbar\":{\"outlinewidth\":0,\"ticks\":\"\"}}}],\"scatterternary\":[{\"type\":\"scatterternary\",\"marker\":{\"colorbar\":{\"outlinewidth\":0,\"ticks\":\"\"}}}],\"scattercarpet\":[{\"type\":\"scattercarpet\",\"marker\":{\"colorbar\":{\"outlinewidth\":0,\"ticks\":\"\"}}}],\"carpet\":[{\"aaxis\":{\"endlinecolor\":\"#2a3f5f\",\"gridcolor\":\"white\",\"linecolor\":\"white\",\"minorgridcolor\":\"white\",\"startlinecolor\":\"#2a3f5f\"},\"baxis\":{\"endlinecolor\":\"#2a3f5f\",\"gridcolor\":\"white\",\"linecolor\":\"white\",\"minorgridcolor\":\"white\",\"startlinecolor\":\"#2a3f5f\"},\"type\":\"carpet\"}],\"table\":[{\"cells\":{\"fill\":{\"color\":\"#EBF0F8\"},\"line\":{\"color\":\"white\"}},\"header\":{\"fill\":{\"color\":\"#C8D4E3\"},\"line\":{\"color\":\"white\"}},\"type\":\"table\"}],\"barpolar\":[{\"marker\":{\"line\":{\"color\":\"#E5ECF6\",\"width\":0.5},\"pattern\":{\"fillmode\":\"overlay\",\"size\":10,\"solidity\":0.2}},\"type\":\"barpolar\"}],\"pie\":[{\"automargin\":true,\"type\":\"pie\"}]},\"layout\":{\"autotypenumbers\":\"strict\",\"colorway\":[\"#636efa\",\"#EF553B\",\"#00cc96\",\"#ab63fa\",\"#FFA15A\",\"#19d3f3\",\"#FF6692\",\"#B6E880\",\"#FF97FF\",\"#FECB52\"],\"font\":{\"color\":\"#2a3f5f\"},\"hovermode\":\"closest\",\"hoverlabel\":{\"align\":\"left\"},\"paper_bgcolor\":\"white\",\"plot_bgcolor\":\"#E5ECF6\",\"polar\":{\"bgcolor\":\"#E5ECF6\",\"angularaxis\":{\"gridcolor\":\"white\",\"linecolor\":\"white\",\"ticks\":\"\"},\"radialaxis\":{\"gridcolor\":\"white\",\"linecolor\":\"white\",\"ticks\":\"\"}},\"ternary\":{\"bgcolor\":\"#E5ECF6\",\"aaxis\":{\"gridcolor\":\"white\",\"linecolor\":\"white\",\"ticks\":\"\"},\"baxis\":{\"gridcolor\":\"white\",\"linecolor\":\"white\",\"ticks\":\"\"},\"caxis\":{\"gridcolor\":\"white\",\"linecolor\":\"white\",\"ticks\":\"\"}},\"coloraxis\":{\"colorbar\":{\"outlinewidth\":0,\"ticks\":\"\"}},\"colorscale\":{\"sequential\":[[0.0,\"#0d0887\"],[0.1111111111111111,\"#46039f\"],[0.2222222222222222,\"#7201a8\"],[0.3333333333333333,\"#9c179e\"],[0.4444444444444444,\"#bd3786\"],[0.5555555555555556,\"#d8576b\"],[0.6666666666666666,\"#ed7953\"],[0.7777777777777778,\"#fb9f3a\"],[0.8888888888888888,\"#fdca26\"],[1.0,\"#f0f921\"]],\"sequentialminus\":[[0.0,\"#0d0887\"],[0.1111111111111111,\"#46039f\"],[0.2222222222222222,\"#7201a8\"],[0.3333333333333333,\"#9c179e\"],[0.4444444444444444,\"#bd3786\"],[0.5555555555555556,\"#d8576b\"],[0.6666666666666666,\"#ed7953\"],[0.7777777777777778,\"#fb9f3a\"],[0.8888888888888888,\"#fdca26\"],[1.0,\"#f0f921\"]],\"diverging\":[[0,\"#8e0152\"],[0.1,\"#c51b7d\"],[0.2,\"#de77ae\"],[0.3,\"#f1b6da\"],[0.4,\"#fde0ef\"],[0.5,\"#f7f7f7\"],[0.6,\"#e6f5d0\"],[0.7,\"#b8e186\"],[0.8,\"#7fbc41\"],[0.9,\"#4d9221\"],[1,\"#276419\"]]},\"xaxis\":{\"gridcolor\":\"white\",\"linecolor\":\"white\",\"ticks\":\"\",\"title\":{\"standoff\":15},\"zerolinecolor\":\"white\",\"automargin\":true,\"zerolinewidth\":2},\"yaxis\":{\"gridcolor\":\"white\",\"linecolor\":\"white\",\"ticks\":\"\",\"title\":{\"standoff\":15},\"zerolinecolor\":\"white\",\"automargin\":true,\"zerolinewidth\":2},\"scene\":{\"xaxis\":{\"backgroundcolor\":\"#E5ECF6\",\"gridcolor\":\"white\",\"linecolor\":\"white\",\"showbackground\":true,\"ticks\":\"\",\"zerolinecolor\":\"white\",\"gridwidth\":2},\"yaxis\":{\"backgroundcolor\":\"#E5ECF6\",\"gridcolor\":\"white\",\"linecolor\":\"white\",\"showbackground\":true,\"ticks\":\"\",\"zerolinecolor\":\"white\",\"gridwidth\":2},\"zaxis\":{\"backgroundcolor\":\"#E5ECF6\",\"gridcolor\":\"white\",\"linecolor\":\"white\",\"showbackground\":true,\"ticks\":\"\",\"zerolinecolor\":\"white\",\"gridwidth\":2}},\"shapedefaults\":{\"line\":{\"color\":\"#2a3f5f\"}},\"annotationdefaults\":{\"arrowcolor\":\"#2a3f5f\",\"arrowhead\":0,\"arrowwidth\":1},\"geo\":{\"bgcolor\":\"white\",\"landcolor\":\"#E5ECF6\",\"subunitcolor\":\"white\",\"showland\":true,\"showlakes\":true,\"lakecolor\":\"white\"},\"title\":{\"x\":0.05},\"mapbox\":{\"style\":\"light\"}}},\"xaxis\":{\"anchor\":\"y\",\"domain\":[0.0,1.0],\"title\":{\"text\":\"Month Name\"},\"tickangle\":-45},\"yaxis\":{\"anchor\":\"x\",\"domain\":[0.0,1.0],\"title\":{\"text\":\"value\"},\"tickformat\":\",.0f\"},\"legend\":{\"title\":{\"text\":\"variable\"},\"tracegroupgap\":0},\"title\":{\"text\":\"Monthly Breakdown of my Mutura Purchases in 2024\",\"font\":{\"size\":16,\"color\":\"blue\"},\"x\":0.5},\"barmode\":\"group\"},                        {\"responsive\": true}                    ).then(function(){\n",
              "                            \n",
              "var gd = document.getElementById('2ecd76ad-559c-4d36-af4d-b44214274214');\n",
              "var x = new MutationObserver(function (mutations, observer) {{\n",
              "        var display = window.getComputedStyle(gd).display;\n",
              "        if (!display || display === 'none') {{\n",
              "            console.log([gd, 'removed!']);\n",
              "            Plotly.purge(gd);\n",
              "            observer.disconnect();\n",
              "        }}\n",
              "}});\n",
              "\n",
              "// Listen for the removal of the full notebook cells\n",
              "var notebookContainer = gd.closest('#notebook-container');\n",
              "if (notebookContainer) {{\n",
              "    x.observe(notebookContainer, {childList: true});\n",
              "}}\n",
              "\n",
              "// Listen for the clearing of the current output cell\n",
              "var outputEl = gd.closest('.output');\n",
              "if (outputEl) {{\n",
              "    x.observe(outputEl, {childList: true});\n",
              "}}\n",
              "\n",
              "                        })                };                            </script>        </div>\n",
              "</body>\n",
              "</html>"
            ]
          },
          "metadata": {}
        }
      ]
    },
    {
      "cell_type": "code",
      "source": [
        "# I am done😂😂😂\n",
        "# Thankyou for sticking around"
      ],
      "metadata": {
        "id": "YtVzTwK4eq_9"
      },
      "execution_count": 50,
      "outputs": []
    }
  ]
}